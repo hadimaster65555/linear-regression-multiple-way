{
 "cells": [
  {
   "cell_type": "markdown",
   "metadata": {},
   "source": [
    "# Linear Regression Multiple Ways"
   ]
  },
  {
   "cell_type": "markdown",
   "metadata": {},
   "source": [
    "In this notebook, I will show you how to do linear regression using multiple library as listed below:\n",
    "- using matrix inverse\n",
    "- using numpy\n",
    "- using statsmodel\n",
    "- using scikit-learn\n",
    "- using chainer\n",
    "- menggunakan lm (r-kernel)"
   ]
  },
  {
   "cell_type": "markdown",
   "metadata": {},
   "source": [
    "# Import Some Library"
   ]
  },
  {
   "cell_type": "code",
   "execution_count": 1,
   "metadata": {},
   "outputs": [
    {
     "name": "stderr",
     "output_type": "stream",
     "text": [
      "C:\\Users\\USER\\Anaconda3\\lib\\site-packages\\statsmodels\\compat\\pandas.py:56: FutureWarning: The pandas.core.datetools module is deprecated and will be removed in a future version. Please use the pandas.tseries module instead.\n",
      "  from pandas.core import datetools\n",
      "C:\\Users\\USER\\Anaconda3\\lib\\site-packages\\h5py\\__init__.py:34: FutureWarning: Conversion of the second argument of issubdtype from `float` to `np.floating` is deprecated. In future, it will be treated as `np.float64 == np.dtype(float).type`.\n",
      "  from ._conv import register_converters as _register_converters\n"
     ]
    }
   ],
   "source": [
    "from scipy import stats\n",
    "import statsmodels.api as sm\n",
    "import matplotlib.pyplot as plt\n",
    "import numpy as np\n",
    "from sklearn import datasets, linear_model\n",
    "from sklearn.metrics import mean_squared_error, r2_score\n",
    "from statsmodels.graphics.regressionplots import abline_plot\n",
    "from chainer import Function, Variable, optimizers, serializers\n",
    "import chainer.functions as F\n",
    "import chainer.links as L\n",
    "%matplotlib inline"
   ]
  },
  {
   "cell_type": "markdown",
   "metadata": {},
   "source": [
    "### Extract data from file csv\n",
    "Take values from file by using ```np.loadtxt(file_name,delimiter)``` then assign it into ```data_point```."
   ]
  },
  {
   "cell_type": "code",
   "execution_count": 2,
   "metadata": {},
   "outputs": [
    {
     "data": {
      "text/plain": [
       "array([[ 5.87050e-01,  5.79555e+00],\n",
       "       [-1.50980e-01,  3.53372e+00],\n",
       "       [-2.48050e-01,  3.22805e+00],\n",
       "       [-3.60560e-01,  2.87947e+00],\n",
       "       [ 9.37500e-02,  4.40297e+00],\n",
       "       [-2.58470e-01,  3.22351e+00],\n",
       "       [-1.71210e-01,  3.33413e+00],\n",
       "       [-4.35840e-01,  2.64581e+00],\n",
       "       [-1.77770e-01,  3.17808e+00],\n",
       "       [ 6.31400e-01,  5.89149e+00],\n",
       "       [-7.51210e-01,  1.63182e+00],\n",
       "       [ 7.73800e-02,  4.16202e+00],\n",
       "       [-3.53150e-01,  3.04898e+00],\n",
       "       [ 1.77860e-01,  4.47832e+00],\n",
       "       [-1.07640e-01,  3.40340e+00],\n",
       "       [ 4.86610e-01,  5.45144e+00],\n",
       "       [ 2.14300e-01,  4.74118e+00],\n",
       "       [-4.60190e-01,  2.58099e+00],\n",
       "       [-8.51420e-01,  1.51027e+00],\n",
       "       [-4.86200e-02,  3.97839e+00],\n",
       "       [ 2.88750e-01,  4.86927e+00],\n",
       "       [ 8.92770e-01,  6.54291e+00],\n",
       "       [ 3.78580e-01,  5.22406e+00],\n",
       "       [ 2.79160e-01,  4.69183e+00],\n",
       "       [ 4.43740e-01,  5.40699e+00],\n",
       "       [ 4.76390e-01,  5.40892e+00],\n",
       "       [-7.10070e-01,  1.93511e+00],\n",
       "       [ 3.99650e-01,  5.31830e+00],\n",
       "       [-8.27500e-02,  3.70831e+00],\n",
       "       [ 2.74830e-01,  4.70114e+00],\n",
       "       [-7.08870e-01,  1.78144e+00],\n",
       "       [ 2.12560e-01,  4.64785e+00],\n",
       "       [-5.87600e-01,  2.36904e+00],\n",
       "       [ 8.21800e-02,  4.33018e+00],\n",
       "       [ 2.43450e-01,  4.58120e+00],\n",
       "       [-2.25490e-01,  3.33604e+00],\n",
       "       [ 1.19820e-01,  4.23821e+00],\n",
       "       [-1.37560e-01,  3.45348e+00],\n",
       "       [-6.46830e-01,  2.00809e+00],\n",
       "       [ 1.79070e-01,  4.54150e+00],\n",
       "       [-4.16000e-03,  4.10607e+00],\n",
       "       [ 4.87630e-01,  5.40747e+00],\n",
       "       [-1.72450e-01,  3.48155e+00],\n",
       "       [ 6.15940e-01,  5.70840e+00],\n",
       "       [-5.06490e-01,  2.39071e+00],\n",
       "       [ 2.35660e-01,  4.82726e+00],\n",
       "       [-7.19800e-02,  3.74389e+00],\n",
       "       [-6.10570e-01,  2.17770e+00],\n",
       "       [ 1.14420e-01,  4.27602e+00],\n",
       "       [-3.18700e-02,  3.88965e+00],\n",
       "       [-4.63300e-02,  3.88686e+00],\n",
       "       [-1.31500e-01,  3.67183e+00],\n",
       "       [-1.35400e-01,  3.49113e+00],\n",
       "       [ 2.12950e-01,  4.67873e+00],\n",
       "       [-2.55200e-01,  3.12481e+00],\n",
       "       [ 2.05570e-01,  4.68855e+00],\n",
       "       [-4.34180e-01,  2.74055e+00],\n",
       "       [ 1.02970e-01,  4.21552e+00],\n",
       "       [ 1.94300e-01,  4.53160e+00],\n",
       "       [ 1.23300e-02,  4.10830e+00],\n",
       "       [-5.40490e-01,  2.42548e+00],\n",
       "       [ 2.92300e-02,  3.98392e+00],\n",
       "       [ 9.17500e-01,  6.98564e+00],\n",
       "       [-3.73880e-01,  2.71958e+00],\n",
       "       [-8.27080e-01,  1.53684e+00],\n",
       "       [-2.94380e-01,  3.05788e+00],\n",
       "       [-1.01560e-01,  3.62269e+00],\n",
       "       [ 9.20900e-02,  4.13679e+00],\n",
       "       [-8.24900e-02,  3.89883e+00],\n",
       "       [-6.43970e-01,  2.20617e+00],\n",
       "       [-7.14300e-02,  3.89586e+00],\n",
       "       [-4.34570e-01,  2.65406e+00],\n",
       "       [ 3.66680e-01,  5.00060e+00],\n",
       "       [ 2.26100e-02,  3.91445e+00],\n",
       "       [-4.01510e-01,  2.92545e+00],\n",
       "       [-1.57860e-01,  3.53233e+00],\n",
       "       [-7.80000e-03,  4.08026e+00],\n",
       "       [-2.86350e-01,  3.26051e+00],\n",
       "       [ 2.03720e-01,  4.75618e+00],\n",
       "       [-1.62670e-01,  3.53234e+00],\n",
       "       [-5.00500e-02,  3.83999e+00],\n",
       "       [ 8.57050e-01,  6.43863e+00],\n",
       "       [ 2.02110e-01,  4.60285e+00],\n",
       "       [ 2.22630e-01,  4.57233e+00],\n",
       "       [ 3.68000e-03,  4.02064e+00],\n",
       "       [ 7.17600e-01,  6.28391e+00],\n",
       "       [ 1.48630e-01,  4.45149e+00],\n",
       "       [-3.47700e-02,  4.00773e+00],\n",
       "       [ 1.10450e-01,  4.32023e+00],\n",
       "       [-2.74430e-01,  3.20861e+00],\n",
       "       [-1.52190e-01,  3.58077e+00],\n",
       "       [-1.23900e-02,  4.01570e+00],\n",
       "       [ 2.10520e-01,  4.57241e+00],\n",
       "       [-1.76220e-01,  3.46470e+00],\n",
       "       [ 4.42700e-01,  5.28338e+00],\n",
       "       [ 5.76970e-01,  5.62490e+00],\n",
       "       [ 5.42420e-01,  5.50030e+00],\n",
       "       [-2.82000e-02,  3.96986e+00],\n",
       "       [-5.20830e-01,  2.46482e+00],\n",
       "       [-6.39980e-01,  2.24709e+00]])"
      ]
     },
     "execution_count": 2,
     "metadata": {},
     "output_type": "execute_result"
    }
   ],
   "source": [
    "data_point = np.loadtxt('linear-regression.csv', delimiter=',')\n",
    "data_point"
   ]
  },
  {
   "cell_type": "markdown",
   "metadata": {},
   "source": [
    "Get ```point_x``` taken from ```data_point[:,0]```."
   ]
  },
  {
   "cell_type": "code",
   "execution_count": 3,
   "metadata": {
    "scrolled": true
   },
   "outputs": [
    {
     "data": {
      "text/plain": [
       "array([ 0.58705, -0.15098, -0.24805, -0.36056,  0.09375, -0.25847,\n",
       "       -0.17121, -0.43584, -0.17777,  0.6314 , -0.75121,  0.07738,\n",
       "       -0.35315,  0.17786, -0.10764,  0.48661,  0.2143 , -0.46019,\n",
       "       -0.85142, -0.04862,  0.28875,  0.89277,  0.37858,  0.27916,\n",
       "        0.44374,  0.47639, -0.71007,  0.39965, -0.08275,  0.27483,\n",
       "       -0.70887,  0.21256, -0.5876 ,  0.08218,  0.24345, -0.22549,\n",
       "        0.11982, -0.13756, -0.64683,  0.17907, -0.00416,  0.48763,\n",
       "       -0.17245,  0.61594, -0.50649,  0.23566, -0.07198, -0.61057,\n",
       "        0.11442, -0.03187, -0.04633, -0.1315 , -0.1354 ,  0.21295,\n",
       "       -0.2552 ,  0.20557, -0.43418,  0.10297,  0.1943 ,  0.01233,\n",
       "       -0.54049,  0.02923,  0.9175 , -0.37388, -0.82708, -0.29438,\n",
       "       -0.10156,  0.09209, -0.08249, -0.64397, -0.07143, -0.43457,\n",
       "        0.36668,  0.02261, -0.40151, -0.15786, -0.0078 , -0.28635,\n",
       "        0.20372, -0.16267, -0.05005,  0.85705,  0.20211,  0.22263,\n",
       "        0.00368,  0.7176 ,  0.14863, -0.03477,  0.11045, -0.27443,\n",
       "       -0.15219, -0.01239,  0.21052, -0.17622,  0.4427 ,  0.57697,\n",
       "        0.54242, -0.0282 , -0.52083, -0.63998])"
      ]
     },
     "execution_count": 3,
     "metadata": {},
     "output_type": "execute_result"
    }
   ],
   "source": [
    "point_x = data_point[:,0]\n",
    "point_x"
   ]
  },
  {
   "cell_type": "markdown",
   "metadata": {},
   "source": [
    "Get ```point_y``` taken from ```data_point[:,1]```."
   ]
  },
  {
   "cell_type": "code",
   "execution_count": 4,
   "metadata": {},
   "outputs": [
    {
     "data": {
      "text/plain": [
       "array([5.79555, 3.53372, 3.22805, 2.87947, 4.40297, 3.22351, 3.33413,\n",
       "       2.64581, 3.17808, 5.89149, 1.63182, 4.16202, 3.04898, 4.47832,\n",
       "       3.4034 , 5.45144, 4.74118, 2.58099, 1.51027, 3.97839, 4.86927,\n",
       "       6.54291, 5.22406, 4.69183, 5.40699, 5.40892, 1.93511, 5.3183 ,\n",
       "       3.70831, 4.70114, 1.78144, 4.64785, 2.36904, 4.33018, 4.5812 ,\n",
       "       3.33604, 4.23821, 3.45348, 2.00809, 4.5415 , 4.10607, 5.40747,\n",
       "       3.48155, 5.7084 , 2.39071, 4.82726, 3.74389, 2.1777 , 4.27602,\n",
       "       3.88965, 3.88686, 3.67183, 3.49113, 4.67873, 3.12481, 4.68855,\n",
       "       2.74055, 4.21552, 4.5316 , 4.1083 , 2.42548, 3.98392, 6.98564,\n",
       "       2.71958, 1.53684, 3.05788, 3.62269, 4.13679, 3.89883, 2.20617,\n",
       "       3.89586, 2.65406, 5.0006 , 3.91445, 2.92545, 3.53233, 4.08026,\n",
       "       3.26051, 4.75618, 3.53234, 3.83999, 6.43863, 4.60285, 4.57233,\n",
       "       4.02064, 6.28391, 4.45149, 4.00773, 4.32023, 3.20861, 3.58077,\n",
       "       4.0157 , 4.57241, 3.4647 , 5.28338, 5.6249 , 5.5003 , 3.96986,\n",
       "       2.46482, 2.24709])"
      ]
     },
     "execution_count": 4,
     "metadata": {},
     "output_type": "execute_result"
    }
   ],
   "source": [
    "point_y = data_point[:,1]\n",
    "point_y"
   ]
  },
  {
   "cell_type": "markdown",
   "metadata": {},
   "source": [
    "Then draw scatter plot by using ```plt.plot(x_value,y_value,symbol, label)``` function."
   ]
  },
  {
   "cell_type": "code",
   "execution_count": 5,
   "metadata": {},
   "outputs": [
    {
     "data": {
      "image/png": "[encoded data removed]",
      "text/plain": [
       "<matplotlib.figure.Figure at 0xe0c05c0>"
      ]
     },
     "metadata": {},
     "output_type": "display_data"
    }
   ],
   "source": [
    "plt.plot(point_x,point_y, 'o', label = 'random data')\n",
    "plt.legend()\n",
    "plt.show()"
   ]
  },
  {
   "cell_type": "markdown",
   "metadata": {},
   "source": [
    "## Linear Regression By Using Only Matrix Inverse"
   ]
  },
  {
   "cell_type": "markdown",
   "metadata": {},
   "source": [
    "Build our model by using ```np.vstack(x_value,constant)``` with ```constant``` are generated by using ```np.ones(number_of_constant)``` function, with ```number_of_contant``` based on how many x_value by using ```len(x_value)``` function."
   ]
  },
  {
   "cell_type": "code",
   "execution_count": 6,
   "metadata": {},
   "outputs": [],
   "source": [
    "matriks = np.vstack([np.ones(len(point_x)),point_x]).T"
   ]
  },
  {
   "cell_type": "markdown",
   "metadata": {},
   "source": [
    "Let $A \\times x = y$ is our regression model where $x$ is vector for ```intercept``` and ```slope```, then the solution from above equation is $$x = (A^{T}A)^{-1}A^{T}y$$ where A is matrix model and y is response vector.\n",
    "Use ```.matmul(matrice_A,matrice_B)``` function to do matrix multiplication and ```.linalg.inv(matrice)``` to do inverse matrix."
   ]
  },
  {
   "cell_type": "code",
   "execution_count": 7,
   "metadata": {},
   "outputs": [
    {
     "data": {
      "text/plain": [
       "array([3.99187633, 2.98060191])"
      ]
     },
     "execution_count": 7,
     "metadata": {},
     "output_type": "execute_result"
    }
   ],
   "source": [
    "hasil = np.matmul(np.matmul(np.linalg.inv(np.matmul(matriks.T,matriks)), matriks.T),point_y)\n",
    "hasil"
   ]
  },
  {
   "cell_type": "markdown",
   "metadata": {},
   "source": [
    "Take aboves value into variables:"
   ]
  },
  {
   "cell_type": "code",
   "execution_count": 9,
   "metadata": {},
   "outputs": [
    {
     "name": "stdout",
     "output_type": "stream",
     "text": [
      "intercept = 3.992\n",
      "slope = 2.981\n"
     ]
    }
   ],
   "source": [
    "intercept = hasil[0]\n",
    "slope = hasil[1]\n",
    "print('intercept = %.3f' %intercept)\n",
    "print('slope = %.3f' % slope)"
   ]
  },
  {
   "cell_type": "code",
   "execution_count": 10,
   "metadata": {},
   "outputs": [
    {
     "data": {
      "image/png": "[encoded data removed]",
      "text/plain": [
       "<matplotlib.figure.Figure at 0xe155d68>"
      ]
     },
     "metadata": {},
     "output_type": "display_data"
    }
   ],
   "source": [
    "plt.plot(point_x,point_y,'o', label = 'data')\n",
    "plt.plot(point_x,point_x*slope + intercept,'r', label = 'fitted line')\n",
    "plt.text(0.35,2, r\"$\\beta_0 = 3.992$\", fontsize=14, color=\"b\")\n",
    "plt.text(0.35, 1.5, r\"$\\beta_1 = 2.981$\", fontsize=14, color=\"b\")\n",
    "plt.legend()\n",
    "plt.show()"
   ]
  },
  {
   "cell_type": "markdown",
   "metadata": {},
   "source": [
    "## Linear Regression Using Numpy"
   ]
  },
  {
   "cell_type": "markdown",
   "metadata": {},
   "source": [
    "Build our model by using ```np.vstack(x_value,constant)``` with ```constant``` are generated by using ```np.ones(number_of_constant)``` function, with ```number_of_contant``` based on how many x_value by using ```len(x_value)``` function."
   ]
  },
  {
   "cell_type": "code",
   "execution_count": 11,
   "metadata": {},
   "outputs": [
    {
     "data": {
      "text/plain": [
       "array([[ 0.58705,  1.     ],\n",
       "       [-0.15098,  1.     ],\n",
       "       [-0.24805,  1.     ],\n",
       "       [-0.36056,  1.     ],\n",
       "       [ 0.09375,  1.     ],\n",
       "       [-0.25847,  1.     ],\n",
       "       [-0.17121,  1.     ],\n",
       "       [-0.43584,  1.     ],\n",
       "       [-0.17777,  1.     ],\n",
       "       [ 0.6314 ,  1.     ],\n",
       "       [-0.75121,  1.     ],\n",
       "       [ 0.07738,  1.     ],\n",
       "       [-0.35315,  1.     ],\n",
       "       [ 0.17786,  1.     ],\n",
       "       [-0.10764,  1.     ],\n",
       "       [ 0.48661,  1.     ],\n",
       "       [ 0.2143 ,  1.     ],\n",
       "       [-0.46019,  1.     ],\n",
       "       [-0.85142,  1.     ],\n",
       "       [-0.04862,  1.     ],\n",
       "       [ 0.28875,  1.     ],\n",
       "       [ 0.89277,  1.     ],\n",
       "       [ 0.37858,  1.     ],\n",
       "       [ 0.27916,  1.     ],\n",
       "       [ 0.44374,  1.     ],\n",
       "       [ 0.47639,  1.     ],\n",
       "       [-0.71007,  1.     ],\n",
       "       [ 0.39965,  1.     ],\n",
       "       [-0.08275,  1.     ],\n",
       "       [ 0.27483,  1.     ],\n",
       "       [-0.70887,  1.     ],\n",
       "       [ 0.21256,  1.     ],\n",
       "       [-0.5876 ,  1.     ],\n",
       "       [ 0.08218,  1.     ],\n",
       "       [ 0.24345,  1.     ],\n",
       "       [-0.22549,  1.     ],\n",
       "       [ 0.11982,  1.     ],\n",
       "       [-0.13756,  1.     ],\n",
       "       [-0.64683,  1.     ],\n",
       "       [ 0.17907,  1.     ],\n",
       "       [-0.00416,  1.     ],\n",
       "       [ 0.48763,  1.     ],\n",
       "       [-0.17245,  1.     ],\n",
       "       [ 0.61594,  1.     ],\n",
       "       [-0.50649,  1.     ],\n",
       "       [ 0.23566,  1.     ],\n",
       "       [-0.07198,  1.     ],\n",
       "       [-0.61057,  1.     ],\n",
       "       [ 0.11442,  1.     ],\n",
       "       [-0.03187,  1.     ],\n",
       "       [-0.04633,  1.     ],\n",
       "       [-0.1315 ,  1.     ],\n",
       "       [-0.1354 ,  1.     ],\n",
       "       [ 0.21295,  1.     ],\n",
       "       [-0.2552 ,  1.     ],\n",
       "       [ 0.20557,  1.     ],\n",
       "       [-0.43418,  1.     ],\n",
       "       [ 0.10297,  1.     ],\n",
       "       [ 0.1943 ,  1.     ],\n",
       "       [ 0.01233,  1.     ],\n",
       "       [-0.54049,  1.     ],\n",
       "       [ 0.02923,  1.     ],\n",
       "       [ 0.9175 ,  1.     ],\n",
       "       [-0.37388,  1.     ],\n",
       "       [-0.82708,  1.     ],\n",
       "       [-0.29438,  1.     ],\n",
       "       [-0.10156,  1.     ],\n",
       "       [ 0.09209,  1.     ],\n",
       "       [-0.08249,  1.     ],\n",
       "       [-0.64397,  1.     ],\n",
       "       [-0.07143,  1.     ],\n",
       "       [-0.43457,  1.     ],\n",
       "       [ 0.36668,  1.     ],\n",
       "       [ 0.02261,  1.     ],\n",
       "       [-0.40151,  1.     ],\n",
       "       [-0.15786,  1.     ],\n",
       "       [-0.0078 ,  1.     ],\n",
       "       [-0.28635,  1.     ],\n",
       "       [ 0.20372,  1.     ],\n",
       "       [-0.16267,  1.     ],\n",
       "       [-0.05005,  1.     ],\n",
       "       [ 0.85705,  1.     ],\n",
       "       [ 0.20211,  1.     ],\n",
       "       [ 0.22263,  1.     ],\n",
       "       [ 0.00368,  1.     ],\n",
       "       [ 0.7176 ,  1.     ],\n",
       "       [ 0.14863,  1.     ],\n",
       "       [-0.03477,  1.     ],\n",
       "       [ 0.11045,  1.     ],\n",
       "       [-0.27443,  1.     ],\n",
       "       [-0.15219,  1.     ],\n",
       "       [-0.01239,  1.     ],\n",
       "       [ 0.21052,  1.     ],\n",
       "       [-0.17622,  1.     ],\n",
       "       [ 0.4427 ,  1.     ],\n",
       "       [ 0.57697,  1.     ],\n",
       "       [ 0.54242,  1.     ],\n",
       "       [-0.0282 ,  1.     ],\n",
       "       [-0.52083,  1.     ],\n",
       "       [-0.63998,  1.     ]])"
      ]
     },
     "execution_count": 11,
     "metadata": {},
     "output_type": "execute_result"
    }
   ],
   "source": [
    "matriks = np.vstack([point_x,np.ones(len(point_x))]).T\n",
    "matriks"
   ]
  },
  {
   "cell_type": "markdown",
   "metadata": {},
   "source": [
    "Do linear regression by using ```np.linalg.lstsq(model_matrix,y_value)``` function."
   ]
  },
  {
   "cell_type": "code",
   "execution_count": 12,
   "metadata": {},
   "outputs": [
    {
     "name": "stderr",
     "output_type": "stream",
     "text": [
      "C:\\Users\\USER\\Anaconda3\\lib\\site-packages\\ipykernel_launcher.py:1: FutureWarning: `rcond` parameter will change to the default of machine precision times ``max(M, N)`` where M and N are the input matrix dimensions.\n",
      "To use the future default and silence this warning we advise to pass `rcond=None`, to keep using the old, explicitly pass `rcond=-1`.\n",
      "  \"\"\"Entry point for launching an IPython kernel.\n"
     ]
    },
    {
     "data": {
      "text/plain": [
       "(array([2.98060191, 3.99187633]),\n",
       " array([0.95073091]),\n",
       " 2,\n",
       " array([10.0018249 ,  3.86767054]))"
      ]
     },
     "execution_count": 12,
     "metadata": {},
     "output_type": "execute_result"
    }
   ],
   "source": [
    "hasil = np.linalg.lstsq(matriks,point_y)\n",
    "hasil"
   ]
  },
  {
   "cell_type": "markdown",
   "metadata": {},
   "source": [
    "Take slope and intercept with these method:"
   ]
  },
  {
   "cell_type": "code",
   "execution_count": 13,
   "metadata": {},
   "outputs": [
    {
     "name": "stdout",
     "output_type": "stream",
     "text": [
      "slope = 2.981\n",
      "intercept = 3.992\n"
     ]
    }
   ],
   "source": [
    "slope = hasil[0][0]\n",
    "intercept = hasil[0][1]\n",
    "print('slope = %.3f' %slope)\n",
    "print('intercept = %.3f' %intercept)"
   ]
  },
  {
   "cell_type": "markdown",
   "metadata": {},
   "source": [
    "## Linear Regression Using StatsModel"
   ]
  },
  {
   "cell_type": "markdown",
   "metadata": {},
   "source": [
    "Build our model matrix by using ```sm.add_constant(x_value)``` function."
   ]
  },
  {
   "cell_type": "code",
   "execution_count": 14,
   "metadata": {},
   "outputs": [
    {
     "data": {
      "text/plain": [
       "array([[ 1.     ,  0.58705],\n",
       "       [ 1.     , -0.15098],\n",
       "       [ 1.     , -0.24805],\n",
       "       [ 1.     , -0.36056],\n",
       "       [ 1.     ,  0.09375],\n",
       "       [ 1.     , -0.25847],\n",
       "       [ 1.     , -0.17121],\n",
       "       [ 1.     , -0.43584],\n",
       "       [ 1.     , -0.17777],\n",
       "       [ 1.     ,  0.6314 ],\n",
       "       [ 1.     , -0.75121],\n",
       "       [ 1.     ,  0.07738],\n",
       "       [ 1.     , -0.35315],\n",
       "       [ 1.     ,  0.17786],\n",
       "       [ 1.     , -0.10764],\n",
       "       [ 1.     ,  0.48661],\n",
       "       [ 1.     ,  0.2143 ],\n",
       "       [ 1.     , -0.46019],\n",
       "       [ 1.     , -0.85142],\n",
       "       [ 1.     , -0.04862],\n",
       "       [ 1.     ,  0.28875],\n",
       "       [ 1.     ,  0.89277],\n",
       "       [ 1.     ,  0.37858],\n",
       "       [ 1.     ,  0.27916],\n",
       "       [ 1.     ,  0.44374],\n",
       "       [ 1.     ,  0.47639],\n",
       "       [ 1.     , -0.71007],\n",
       "       [ 1.     ,  0.39965],\n",
       "       [ 1.     , -0.08275],\n",
       "       [ 1.     ,  0.27483],\n",
       "       [ 1.     , -0.70887],\n",
       "       [ 1.     ,  0.21256],\n",
       "       [ 1.     , -0.5876 ],\n",
       "       [ 1.     ,  0.08218],\n",
       "       [ 1.     ,  0.24345],\n",
       "       [ 1.     , -0.22549],\n",
       "       [ 1.     ,  0.11982],\n",
       "       [ 1.     , -0.13756],\n",
       "       [ 1.     , -0.64683],\n",
       "       [ 1.     ,  0.17907],\n",
       "       [ 1.     , -0.00416],\n",
       "       [ 1.     ,  0.48763],\n",
       "       [ 1.     , -0.17245],\n",
       "       [ 1.     ,  0.61594],\n",
       "       [ 1.     , -0.50649],\n",
       "       [ 1.     ,  0.23566],\n",
       "       [ 1.     , -0.07198],\n",
       "       [ 1.     , -0.61057],\n",
       "       [ 1.     ,  0.11442],\n",
       "       [ 1.     , -0.03187],\n",
       "       [ 1.     , -0.04633],\n",
       "       [ 1.     , -0.1315 ],\n",
       "       [ 1.     , -0.1354 ],\n",
       "       [ 1.     ,  0.21295],\n",
       "       [ 1.     , -0.2552 ],\n",
       "       [ 1.     ,  0.20557],\n",
       "       [ 1.     , -0.43418],\n",
       "       [ 1.     ,  0.10297],\n",
       "       [ 1.     ,  0.1943 ],\n",
       "       [ 1.     ,  0.01233],\n",
       "       [ 1.     , -0.54049],\n",
       "       [ 1.     ,  0.02923],\n",
       "       [ 1.     ,  0.9175 ],\n",
       "       [ 1.     , -0.37388],\n",
       "       [ 1.     , -0.82708],\n",
       "       [ 1.     , -0.29438],\n",
       "       [ 1.     , -0.10156],\n",
       "       [ 1.     ,  0.09209],\n",
       "       [ 1.     , -0.08249],\n",
       "       [ 1.     , -0.64397],\n",
       "       [ 1.     , -0.07143],\n",
       "       [ 1.     , -0.43457],\n",
       "       [ 1.     ,  0.36668],\n",
       "       [ 1.     ,  0.02261],\n",
       "       [ 1.     , -0.40151],\n",
       "       [ 1.     , -0.15786],\n",
       "       [ 1.     , -0.0078 ],\n",
       "       [ 1.     , -0.28635],\n",
       "       [ 1.     ,  0.20372],\n",
       "       [ 1.     , -0.16267],\n",
       "       [ 1.     , -0.05005],\n",
       "       [ 1.     ,  0.85705],\n",
       "       [ 1.     ,  0.20211],\n",
       "       [ 1.     ,  0.22263],\n",
       "       [ 1.     ,  0.00368],\n",
       "       [ 1.     ,  0.7176 ],\n",
       "       [ 1.     ,  0.14863],\n",
       "       [ 1.     , -0.03477],\n",
       "       [ 1.     ,  0.11045],\n",
       "       [ 1.     , -0.27443],\n",
       "       [ 1.     , -0.15219],\n",
       "       [ 1.     , -0.01239],\n",
       "       [ 1.     ,  0.21052],\n",
       "       [ 1.     , -0.17622],\n",
       "       [ 1.     ,  0.4427 ],\n",
       "       [ 1.     ,  0.57697],\n",
       "       [ 1.     ,  0.54242],\n",
       "       [ 1.     , -0.0282 ],\n",
       "       [ 1.     , -0.52083],\n",
       "       [ 1.     , -0.63998]])"
      ]
     },
     "execution_count": 14,
     "metadata": {},
     "output_type": "execute_result"
    }
   ],
   "source": [
    "constant = sm.add_constant(point_x)\n",
    "constant"
   ]
  },
  {
   "cell_type": "markdown",
   "metadata": {},
   "source": [
    "Build our model by using  ```sm.OLS(y_value,x_value_and_its_constant)``` function."
   ]
  },
  {
   "cell_type": "code",
   "execution_count": 15,
   "metadata": {},
   "outputs": [],
   "source": [
    "model = sm.OLS(point_y,constant)"
   ]
  },
  {
   "cell_type": "markdown",
   "metadata": {},
   "source": [
    "Get values from model above by using ```.fit()``` method then assign it into ```hasil```."
   ]
  },
  {
   "cell_type": "code",
   "execution_count": 16,
   "metadata": {},
   "outputs": [],
   "source": [
    "hasil = model.fit()"
   ]
  },
  {
   "cell_type": "markdown",
   "metadata": {},
   "source": [
    "Get intercept dan slope value by using ```.params``` method."
   ]
  },
  {
   "cell_type": "code",
   "execution_count": 17,
   "metadata": {},
   "outputs": [
    {
     "data": {
      "text/plain": [
       "array([3.99187633, 2.98060191])"
      ]
     },
     "execution_count": 17,
     "metadata": {},
     "output_type": "execute_result"
    }
   ],
   "source": [
    "hasil.params"
   ]
  },
  {
   "cell_type": "markdown",
   "metadata": {},
   "source": [
    "Take those values to ```intercept``` and ```slope``` variable."
   ]
  },
  {
   "cell_type": "code",
   "execution_count": 18,
   "metadata": {},
   "outputs": [
    {
     "data": {
      "text/plain": [
       "(2.9806019093216443, 3.9918763347393833)"
      ]
     },
     "execution_count": 18,
     "metadata": {},
     "output_type": "execute_result"
    }
   ],
   "source": [
    "intercept = hasil.params[0]\n",
    "slope = hasil.params[1]\n",
    "slope, intercept"
   ]
  },
  {
   "cell_type": "markdown",
   "metadata": {},
   "source": [
    "See the conclusions of the above values by using ```.summary()``` method."
   ]
  },
  {
   "cell_type": "code",
   "execution_count": 19,
   "metadata": {},
   "outputs": [
    {
     "data": {
      "text/html": [
       "<table class=\"simpletable\">\n",
       "<caption>OLS Regression Results</caption>\n",
       "<tr>\n",
       "  <th>Dep. Variable:</th>            <td>y</td>        <th>  R-squared:         </th> <td>   0.993</td> \n",
       "</tr>\n",
       "<tr>\n",
       "  <th>Model:</th>                   <td>OLS</td>       <th>  Adj. R-squared:    </th> <td>   0.993</td> \n",
       "</tr>\n",
       "<tr>\n",
       "  <th>Method:</th>             <td>Least Squares</td>  <th>  F-statistic:       </th> <td>1.370e+04</td>\n",
       "</tr>\n",
       "<tr>\n",
       "  <th>Date:</th>             <td>Sun, 29 Jul 2018</td> <th>  Prob (F-statistic):</th> <td>4.17e-107</td>\n",
       "</tr>\n",
       "<tr>\n",
       "  <th>Time:</th>                 <td>22:39:41</td>     <th>  Log-Likelihood:    </th> <td>  90.891</td> \n",
       "</tr>\n",
       "<tr>\n",
       "  <th>No. Observations:</th>      <td>   100</td>      <th>  AIC:               </th> <td>  -177.8</td> \n",
       "</tr>\n",
       "<tr>\n",
       "  <th>Df Residuals:</th>          <td>    98</td>      <th>  BIC:               </th> <td>  -172.6</td> \n",
       "</tr>\n",
       "<tr>\n",
       "  <th>Df Model:</th>              <td>     1</td>      <th>                     </th>     <td> </td>    \n",
       "</tr>\n",
       "<tr>\n",
       "  <th>Covariance Type:</th>      <td>nonrobust</td>    <th>                     </th>     <td> </td>    \n",
       "</tr>\n",
       "</table>\n",
       "<table class=\"simpletable\">\n",
       "<tr>\n",
       "    <td></td>       <th>coef</th>     <th>std err</th>      <th>t</th>      <th>P>|t|</th>  <th>[0.025</th>    <th>0.975]</th>  \n",
       "</tr>\n",
       "<tr>\n",
       "  <th>const</th> <td>    3.9919</td> <td>    0.010</td> <td>  404.866</td> <td> 0.000</td> <td>    3.972</td> <td>    4.011</td>\n",
       "</tr>\n",
       "<tr>\n",
       "  <th>x1</th>    <td>    2.9806</td> <td>    0.025</td> <td>  117.062</td> <td> 0.000</td> <td>    2.930</td> <td>    3.031</td>\n",
       "</tr>\n",
       "</table>\n",
       "<table class=\"simpletable\">\n",
       "<tr>\n",
       "  <th>Omnibus:</th>       <td> 0.551</td> <th>  Durbin-Watson:     </th> <td>   1.996</td>\n",
       "</tr>\n",
       "<tr>\n",
       "  <th>Prob(Omnibus):</th> <td> 0.759</td> <th>  Jarque-Bera (JB):  </th> <td>   0.404</td>\n",
       "</tr>\n",
       "<tr>\n",
       "  <th>Skew:</th>          <td>-0.156</td> <th>  Prob(JB):          </th> <td>   0.817</td>\n",
       "</tr>\n",
       "<tr>\n",
       "  <th>Kurtosis:</th>      <td> 2.996</td> <th>  Cond. No.          </th> <td>    2.59</td>\n",
       "</tr>\n",
       "</table>"
      ],
      "text/plain": [
       "<class 'statsmodels.iolib.summary.Summary'>\n",
       "\"\"\"\n",
       "                            OLS Regression Results                            \n",
       "==============================================================================\n",
       "Dep. Variable:                      y   R-squared:                       0.993\n",
       "Model:                            OLS   Adj. R-squared:                  0.993\n",
       "Method:                 Least Squares   F-statistic:                 1.370e+04\n",
       "Date:                Sun, 29 Jul 2018   Prob (F-statistic):          4.17e-107\n",
       "Time:                        22:39:41   Log-Likelihood:                 90.891\n",
       "No. Observations:                 100   AIC:                            -177.8\n",
       "Df Residuals:                      98   BIC:                            -172.6\n",
       "Df Model:                           1                                         \n",
       "Covariance Type:            nonrobust                                         \n",
       "==============================================================================\n",
       "                 coef    std err          t      P>|t|      [0.025      0.975]\n",
       "------------------------------------------------------------------------------\n",
       "const          3.9919      0.010    404.866      0.000       3.972       4.011\n",
       "x1             2.9806      0.025    117.062      0.000       2.930       3.031\n",
       "==============================================================================\n",
       "Omnibus:                        0.551   Durbin-Watson:                   1.996\n",
       "Prob(Omnibus):                  0.759   Jarque-Bera (JB):                0.404\n",
       "Skew:                          -0.156   Prob(JB):                        0.817\n",
       "Kurtosis:                       2.996   Cond. No.                         2.59\n",
       "==============================================================================\n",
       "\n",
       "Warnings:\n",
       "[1] Standard Errors assume that the covariance matrix of the errors is correctly specified.\n",
       "\"\"\""
      ]
     },
     "execution_count": 19,
     "metadata": {},
     "output_type": "execute_result"
    }
   ],
   "source": [
    "hasil.summary()"
   ]
  },
  {
   "cell_type": "markdown",
   "metadata": {},
   "source": [
    "Then plot model with  ```sm.graphics.abline_plot(variabel_model)``` function."
   ]
  },
  {
   "cell_type": "code",
   "execution_count": 20,
   "metadata": {},
   "outputs": [
    {
     "data": {
      "image/png": "[encoded data removed]",
      "text/plain": [
       "<matplotlib.figure.Figure at 0x109b0668>"
      ]
     },
     "metadata": {},
     "output_type": "display_data"
    }
   ],
   "source": [
    "fig = sm.graphics.abline_plot(model_results=hasil, label = 'fitted line', color='red')\n",
    "ax = fig.axes[0]\n",
    "ax.scatter(constant[:,1], point_y,label='data')\n",
    "ax.margins(.5)\n",
    "plt.legend()\n",
    "plt.show()"
   ]
  },
  {
   "cell_type": "markdown",
   "metadata": {},
   "source": [
    "## Linear Regression Using SciPy"
   ]
  },
  {
   "cell_type": "markdown",
   "metadata": {},
   "source": [
    "Here we will do linear regression using ```stats.linregress``` from SciPy library."
   ]
  },
  {
   "cell_type": "code",
   "execution_count": 21,
   "metadata": {},
   "outputs": [
    {
     "data": {
      "text/plain": [
       "LinregressResult(slope=2.980601909321643, intercept=3.991876334739383, rvalue=0.9964433554771048, pvalue=4.171677199671537e-107, stderr=0.025461679587517137)"
      ]
     },
     "execution_count": 21,
     "metadata": {},
     "output_type": "execute_result"
    }
   ],
   "source": [
    "stats.linregress(x=point_x, y=point_y)"
   ]
  },
  {
   "cell_type": "markdown",
   "metadata": {},
   "source": [
    "Take the above value to variables:"
   ]
  },
  {
   "cell_type": "code",
   "execution_count": 22,
   "metadata": {},
   "outputs": [
    {
     "name": "stdout",
     "output_type": "stream",
     "text": [
      "slope = 2.981\n",
      "intercept = 3.992\n",
      "r_squared to see how good our model = 0.996\n",
      "p_value based on our model = 0.0000000000 < 0.05\n",
      "standar deviation = 0.025\n"
     ]
    }
   ],
   "source": [
    "slope,intercept,r_square,p_value,standard_error = stats.linregress(x=point_x, y=point_y)\n",
    "\n",
    "print('slope = %.3f' %slope)\n",
    "print('intercept = %.3f' %intercept)\n",
    "print('r_squared to see how good our model = %.3f' %r_square)\n",
    "print('p_value based on our model = %.10f < 0.05' %p_value)\n",
    "print('standar deviation = %.3f' %standard_error)"
   ]
  },
  {
   "cell_type": "markdown",
   "metadata": {},
   "source": [
    "Draw regression plot."
   ]
  },
  {
   "cell_type": "code",
   "execution_count": 23,
   "metadata": {},
   "outputs": [
    {
     "data": {
      "image/png": "[encoded data removed]",
      "text/plain": [
       "<matplotlib.figure.Figure at 0x109b00b8>"
      ]
     },
     "metadata": {},
     "output_type": "display_data"
    }
   ],
   "source": [
    "plt.plot(point_x, point_y, 'o', label='random data')\n",
    "plt.plot(point_x, intercept + slope*point_x, 'r', label='fitted line')\n",
    "plt.legend()\n",
    "plt.show()"
   ]
  },
  {
   "cell_type": "markdown",
   "metadata": {},
   "source": [
    "## Linear Regression Using Scikit Learn"
   ]
  },
  {
   "cell_type": "markdown",
   "metadata": {},
   "source": [
    "We will do linear regression using ```LinearRegression.fit(nilai_y,nilai_x)``` from Scikit Learn library."
   ]
  },
  {
   "cell_type": "code",
   "execution_count": 24,
   "metadata": {},
   "outputs": [],
   "source": [
    "regr = linear_model.LinearRegression()"
   ]
  },
  {
   "cell_type": "markdown",
   "metadata": {},
   "source": [
    "Change ```point_x``` dimension to $n \\times 1$ by using ```.reshape(_value,(n_row,n_column))``` function."
   ]
  },
  {
   "cell_type": "code",
   "execution_count": 25,
   "metadata": {
    "scrolled": false
   },
   "outputs": [
    {
     "data": {
      "text/plain": [
       "array([[ 0.58705],\n",
       "       [-0.15098],\n",
       "       [-0.24805],\n",
       "       [-0.36056],\n",
       "       [ 0.09375],\n",
       "       [-0.25847],\n",
       "       [-0.17121],\n",
       "       [-0.43584],\n",
       "       [-0.17777],\n",
       "       [ 0.6314 ],\n",
       "       [-0.75121],\n",
       "       [ 0.07738],\n",
       "       [-0.35315],\n",
       "       [ 0.17786],\n",
       "       [-0.10764],\n",
       "       [ 0.48661],\n",
       "       [ 0.2143 ],\n",
       "       [-0.46019],\n",
       "       [-0.85142],\n",
       "       [-0.04862],\n",
       "       [ 0.28875],\n",
       "       [ 0.89277],\n",
       "       [ 0.37858],\n",
       "       [ 0.27916],\n",
       "       [ 0.44374],\n",
       "       [ 0.47639],\n",
       "       [-0.71007],\n",
       "       [ 0.39965],\n",
       "       [-0.08275],\n",
       "       [ 0.27483],\n",
       "       [-0.70887],\n",
       "       [ 0.21256],\n",
       "       [-0.5876 ],\n",
       "       [ 0.08218],\n",
       "       [ 0.24345],\n",
       "       [-0.22549],\n",
       "       [ 0.11982],\n",
       "       [-0.13756],\n",
       "       [-0.64683],\n",
       "       [ 0.17907],\n",
       "       [-0.00416],\n",
       "       [ 0.48763],\n",
       "       [-0.17245],\n",
       "       [ 0.61594],\n",
       "       [-0.50649],\n",
       "       [ 0.23566],\n",
       "       [-0.07198],\n",
       "       [-0.61057],\n",
       "       [ 0.11442],\n",
       "       [-0.03187],\n",
       "       [-0.04633],\n",
       "       [-0.1315 ],\n",
       "       [-0.1354 ],\n",
       "       [ 0.21295],\n",
       "       [-0.2552 ],\n",
       "       [ 0.20557],\n",
       "       [-0.43418],\n",
       "       [ 0.10297],\n",
       "       [ 0.1943 ],\n",
       "       [ 0.01233],\n",
       "       [-0.54049],\n",
       "       [ 0.02923],\n",
       "       [ 0.9175 ],\n",
       "       [-0.37388],\n",
       "       [-0.82708],\n",
       "       [-0.29438],\n",
       "       [-0.10156],\n",
       "       [ 0.09209],\n",
       "       [-0.08249],\n",
       "       [-0.64397],\n",
       "       [-0.07143],\n",
       "       [-0.43457],\n",
       "       [ 0.36668],\n",
       "       [ 0.02261],\n",
       "       [-0.40151],\n",
       "       [-0.15786],\n",
       "       [-0.0078 ],\n",
       "       [-0.28635],\n",
       "       [ 0.20372],\n",
       "       [-0.16267],\n",
       "       [-0.05005],\n",
       "       [ 0.85705],\n",
       "       [ 0.20211],\n",
       "       [ 0.22263],\n",
       "       [ 0.00368],\n",
       "       [ 0.7176 ],\n",
       "       [ 0.14863],\n",
       "       [-0.03477],\n",
       "       [ 0.11045],\n",
       "       [-0.27443],\n",
       "       [-0.15219],\n",
       "       [-0.01239],\n",
       "       [ 0.21052],\n",
       "       [-0.17622],\n",
       "       [ 0.4427 ],\n",
       "       [ 0.57697],\n",
       "       [ 0.54242],\n",
       "       [-0.0282 ],\n",
       "       [-0.52083],\n",
       "       [-0.63998]])"
      ]
     },
     "execution_count": 25,
     "metadata": {},
     "output_type": "execute_result"
    }
   ],
   "source": [
    "nilai_x = point_x.reshape(len(point_x),1)\n",
    "nilai_x"
   ]
  },
  {
   "cell_type": "markdown",
   "metadata": {},
   "source": [
    "Change ```point_y``` with the same manner as ```point_x```."
   ]
  },
  {
   "cell_type": "code",
   "execution_count": 26,
   "metadata": {
    "scrolled": false
   },
   "outputs": [
    {
     "data": {
      "text/plain": [
       "array([[5.79555],\n",
       "       [3.53372],\n",
       "       [3.22805],\n",
       "       [2.87947],\n",
       "       [4.40297],\n",
       "       [3.22351],\n",
       "       [3.33413],\n",
       "       [2.64581],\n",
       "       [3.17808],\n",
       "       [5.89149],\n",
       "       [1.63182],\n",
       "       [4.16202],\n",
       "       [3.04898],\n",
       "       [4.47832],\n",
       "       [3.4034 ],\n",
       "       [5.45144],\n",
       "       [4.74118],\n",
       "       [2.58099],\n",
       "       [1.51027],\n",
       "       [3.97839],\n",
       "       [4.86927],\n",
       "       [6.54291],\n",
       "       [5.22406],\n",
       "       [4.69183],\n",
       "       [5.40699],\n",
       "       [5.40892],\n",
       "       [1.93511],\n",
       "       [5.3183 ],\n",
       "       [3.70831],\n",
       "       [4.70114],\n",
       "       [1.78144],\n",
       "       [4.64785],\n",
       "       [2.36904],\n",
       "       [4.33018],\n",
       "       [4.5812 ],\n",
       "       [3.33604],\n",
       "       [4.23821],\n",
       "       [3.45348],\n",
       "       [2.00809],\n",
       "       [4.5415 ],\n",
       "       [4.10607],\n",
       "       [5.40747],\n",
       "       [3.48155],\n",
       "       [5.7084 ],\n",
       "       [2.39071],\n",
       "       [4.82726],\n",
       "       [3.74389],\n",
       "       [2.1777 ],\n",
       "       [4.27602],\n",
       "       [3.88965],\n",
       "       [3.88686],\n",
       "       [3.67183],\n",
       "       [3.49113],\n",
       "       [4.67873],\n",
       "       [3.12481],\n",
       "       [4.68855],\n",
       "       [2.74055],\n",
       "       [4.21552],\n",
       "       [4.5316 ],\n",
       "       [4.1083 ],\n",
       "       [2.42548],\n",
       "       [3.98392],\n",
       "       [6.98564],\n",
       "       [2.71958],\n",
       "       [1.53684],\n",
       "       [3.05788],\n",
       "       [3.62269],\n",
       "       [4.13679],\n",
       "       [3.89883],\n",
       "       [2.20617],\n",
       "       [3.89586],\n",
       "       [2.65406],\n",
       "       [5.0006 ],\n",
       "       [3.91445],\n",
       "       [2.92545],\n",
       "       [3.53233],\n",
       "       [4.08026],\n",
       "       [3.26051],\n",
       "       [4.75618],\n",
       "       [3.53234],\n",
       "       [3.83999],\n",
       "       [6.43863],\n",
       "       [4.60285],\n",
       "       [4.57233],\n",
       "       [4.02064],\n",
       "       [6.28391],\n",
       "       [4.45149],\n",
       "       [4.00773],\n",
       "       [4.32023],\n",
       "       [3.20861],\n",
       "       [3.58077],\n",
       "       [4.0157 ],\n",
       "       [4.57241],\n",
       "       [3.4647 ],\n",
       "       [5.28338],\n",
       "       [5.6249 ],\n",
       "       [5.5003 ],\n",
       "       [3.96986],\n",
       "       [2.46482],\n",
       "       [2.24709]])"
      ]
     },
     "execution_count": 26,
     "metadata": {},
     "output_type": "execute_result"
    }
   ],
   "source": [
    "nilai_y = point_y.reshape(len(point_y),1)\n",
    "nilai_y"
   ]
  },
  {
   "cell_type": "markdown",
   "metadata": {},
   "source": [
    "Do linear regression with ```.fit(nilai_x,nilai_y)``` function."
   ]
  },
  {
   "cell_type": "code",
   "execution_count": 27,
   "metadata": {},
   "outputs": [],
   "source": [
    "hasil = regr.fit(nilai_x,nilai_y)"
   ]
  },
  {
   "cell_type": "markdown",
   "metadata": {},
   "source": [
    "Get slope by using ```.coef``` method."
   ]
  },
  {
   "cell_type": "code",
   "execution_count": 28,
   "metadata": {},
   "outputs": [
    {
     "data": {
      "text/plain": [
       "array([[2.98060191]])"
      ]
     },
     "execution_count": 28,
     "metadata": {},
     "output_type": "execute_result"
    }
   ],
   "source": [
    "hasil.coef_"
   ]
  },
  {
   "cell_type": "markdown",
   "metadata": {},
   "source": [
    "Get intercept by using ```.intercept``` method."
   ]
  },
  {
   "cell_type": "code",
   "execution_count": 29,
   "metadata": {},
   "outputs": [
    {
     "data": {
      "text/plain": [
       "array([3.99187633])"
      ]
     },
     "execution_count": 29,
     "metadata": {},
     "output_type": "execute_result"
    }
   ],
   "source": [
    "hasil.intercept_"
   ]
  },
  {
   "cell_type": "markdown",
   "metadata": {},
   "source": [
    "Find y prediction based on model we have build with ```.predict(nilai_x)``` function."
   ]
  },
  {
   "cell_type": "code",
   "execution_count": 30,
   "metadata": {},
   "outputs": [
    {
     "data": {
      "text/plain": [
       "array([[5.74163869],\n",
       "       [3.54186506],\n",
       "       [3.25253803],\n",
       "       [2.91719051],\n",
       "       [4.27130776],\n",
       "       [3.22148016],\n",
       "       [3.48156748],\n",
       "       [2.6928108 ],\n",
       "       [3.46201473],\n",
       "       [5.87382838],\n",
       "       [1.75281837],\n",
       "       [4.22251531],\n",
       "       [2.93927677],\n",
       "       [4.52200619],\n",
       "       [3.67104435],\n",
       "       [5.44226703],\n",
       "       [4.63061932],\n",
       "       [2.62023314],\n",
       "       [1.45413226],\n",
       "       [3.84695947],\n",
       "       [4.85252514],\n",
       "       [6.6528683 ],\n",
       "       [5.12027261],\n",
       "       [4.82394116],\n",
       "       [5.31448863],\n",
       "       [5.41180528],\n",
       "       [1.87544034],\n",
       "       [5.18307389],\n",
       "       [3.74523153],\n",
       "       [4.81103516],\n",
       "       [1.87901706],\n",
       "       [4.62543308],\n",
       "       [2.24047465],\n",
       "       [4.2368222 ],\n",
       "       [4.71750387],\n",
       "       [3.31978041],\n",
       "       [4.34901206],\n",
       "       [3.58186474],\n",
       "       [2.0639336 ],\n",
       "       [4.52561272],\n",
       "       [3.97947703],\n",
       "       [5.44530724],\n",
       "       [3.47787154],\n",
       "       [5.82774827],\n",
       "       [2.48223127],\n",
       "       [4.69428498],\n",
       "       [3.77733261],\n",
       "       [2.17201023],\n",
       "       [4.33291681],\n",
       "       [3.89688455],\n",
       "       [3.85378505],\n",
       "       [3.59992718],\n",
       "       [3.58830284],\n",
       "       [4.62659551],\n",
       "       [3.23122673],\n",
       "       [4.60459867],\n",
       "       [2.6977586 ],\n",
       "       [4.29878891],\n",
       "       [4.57100729],\n",
       "       [4.02862716],\n",
       "       [2.38089081],\n",
       "       [4.07899933],\n",
       "       [6.72657859],\n",
       "       [2.87748889],\n",
       "       [1.52668011],\n",
       "       [3.11444674],\n",
       "       [3.6891664 ],\n",
       "       [4.26635996],\n",
       "       [3.74600648],\n",
       "       [2.07245812],\n",
       "       [3.77897194],\n",
       "       [2.69659616],\n",
       "       [5.08480344],\n",
       "       [4.05926774],\n",
       "       [2.79513486],\n",
       "       [3.52135852],\n",
       "       [3.96862764],\n",
       "       [3.13838098],\n",
       "       [4.59908456],\n",
       "       [3.50702182],\n",
       "       [3.84269721],\n",
       "       [6.5464012 ],\n",
       "       [4.59428579],\n",
       "       [4.65544774],\n",
       "       [4.00284495],\n",
       "       [6.13075626],\n",
       "       [4.4348832 ],\n",
       "       [3.88824081],\n",
       "       [4.32108382],\n",
       "       [3.17390975],\n",
       "       [3.53825853],\n",
       "       [3.95494668],\n",
       "       [4.61935265],\n",
       "       [3.46663467],\n",
       "       [5.3113888 ],\n",
       "       [5.71159422],\n",
       "       [5.60861442],\n",
       "       [3.90782336],\n",
       "       [2.43948944],\n",
       "       [2.08435072]])"
      ]
     },
     "execution_count": 30,
     "metadata": {},
     "output_type": "execute_result"
    }
   ],
   "source": [
    "nilai_y_prediksi = hasil.predict(nilai_x)\n",
    "nilai_y_prediksi"
   ]
  },
  {
   "cell_type": "markdown",
   "metadata": {},
   "source": [
    "Plot the result above."
   ]
  },
  {
   "cell_type": "code",
   "execution_count": 31,
   "metadata": {},
   "outputs": [
    {
     "data": {
      "image/png": "[encoded data removed]",
      "text/plain": [
       "<matplotlib.figure.Figure at 0xe2bd0b8>"
      ]
     },
     "metadata": {},
     "output_type": "display_data"
    }
   ],
   "source": [
    "plt.plot(nilai_x, nilai_y, 'o', color='black', label = 'data')\n",
    "plt.plot(nilai_x, nilai_y_prediksi, color='red', linewidth=2, label = 'fitted line')\n",
    "plt.show()"
   ]
  },
  {
   "cell_type": "markdown",
   "metadata": {},
   "source": [
    "## Linear Regression Using Chainer"
   ]
  },
  {
   "cell_type": "markdown",
   "metadata": {},
   "source": [
    "First, you must setup linear link using L.Linear() function:"
   ]
  },
  {
   "cell_type": "code",
   "execution_count": 32,
   "metadata": {},
   "outputs": [],
   "source": [
    "linear_chain = L.Linear(1,1)"
   ]
  },
  {
   "cell_type": "markdown",
   "metadata": {},
   "source": [
    "Then change point_x and point_y to varibale with Variable() function and reshape them to $n \\times 1$ matrix"
   ]
  },
  {
   "cell_type": "code",
   "execution_count": 33,
   "metadata": {},
   "outputs": [],
   "source": [
    "point_x = point_x.astype(np.float32)\n",
    "point_y = point_y.astype(np.float32)"
   ]
  },
  {
   "cell_type": "code",
   "execution_count": 34,
   "metadata": {},
   "outputs": [],
   "source": [
    "x_var = Variable(point_x.reshape(point_x.size,-1))\n",
    "y_var = Variable(point_y.reshape(point_y.size,-1))"
   ]
  },
  {
   "cell_type": "markdown",
   "metadata": {},
   "source": [
    "Setup optimizer to use with learning rate 0.01 using Stochastic Gradient Descent with Momentum (MomentumSGD)."
   ]
  },
  {
   "cell_type": "code",
   "execution_count": 35,
   "metadata": {},
   "outputs": [],
   "source": [
    "optimizer = optimizers.MomentumSGD(lr = 0.01)\n",
    "optimizer.setup(linear_chain)"
   ]
  },
  {
   "cell_type": "markdown",
   "metadata": {},
   "source": [
    "Then setup ```linear_forward``` function and ```linear_train``` function."
   ]
  },
  {
   "cell_type": "code",
   "execution_count": 36,
   "metadata": {},
   "outputs": [],
   "source": [
    "def linear_forward(points):\n",
    "    return linear_chain(points)"
   ]
  },
  {
   "cell_type": "code",
   "execution_count": 37,
   "metadata": {},
   "outputs": [],
   "source": [
    "def linear_train(train_data, train_target,n_epochs=200):\n",
    "    for i in range(n_epochs):    \n",
    "        output = linear_forward(train_data)\n",
    "        loss = F.mean_squared_error(train_target,output)\n",
    "        linear_chain.zerograds()\n",
    "        loss.backward()\n",
    "        optimizer.update()"
   ]
  },
  {
   "cell_type": "markdown",
   "metadata": {},
   "source": [
    "After those setup, we ready to build our regression model."
   ]
  },
  {
   "cell_type": "code",
   "execution_count": 38,
   "metadata": {},
   "outputs": [
    {
     "data": {
      "image/png": "[encoded data removed]",
      "text/plain": [
       "<matplotlib.figure.Figure at 0x109b01d0>"
      ]
     },
     "metadata": {},
     "output_type": "display_data"
    }
   ],
   "source": [
    "plt.scatter(point_x,point_y)\n",
    "plt.xlabel('x value')\n",
    "plt.ylabel('y value')\n",
    "for i in range(150):    \n",
    "    linear_train(x_var, y_var, n_epochs=5)\n",
    "    y_pred = linear_forward(x_var).data\n",
    "    plt.plot(point_x, y_pred, color=plt.cm.cool(i/150.), alpha = 0.4, lw =3)"
   ]
  },
  {
   "cell_type": "markdown",
   "metadata": {},
   "source": [
    "Find slope and intercept from ```linear_chain()``` object by call ```.W.data``` and ```.b.data``` object."
   ]
  },
  {
   "cell_type": "code",
   "execution_count": 39,
   "metadata": {},
   "outputs": [
    {
     "data": {
      "text/plain": [
       "2.980603"
      ]
     },
     "execution_count": 39,
     "metadata": {},
     "output_type": "execute_result"
    }
   ],
   "source": [
    "slope = linear_chain.W.data[0,0]\n",
    "slope"
   ]
  },
  {
   "cell_type": "code",
   "execution_count": 40,
   "metadata": {},
   "outputs": [
    {
     "data": {
      "text/plain": [
       "3.9918766"
      ]
     },
     "execution_count": 40,
     "metadata": {},
     "output_type": "execute_result"
    }
   ],
   "source": [
    "intercept = linear_chain.b.data[0]\n",
    "intercept"
   ]
  },
  {
   "cell_type": "markdown",
   "metadata": {},
   "source": [
    "## Linear Regression Using R"
   ]
  },
  {
   "cell_type": "markdown",
   "metadata": {},
   "source": [
    "To run this example, you need to change conda kernel to r. r-kernel can be downloaded from conda-navigator."
   ]
  },
  {
   "cell_type": "markdown",
   "metadata": {},
   "source": [
    "Firstly, read csv file using ```read.csv(file_name, separator)``` function."
   ]
  },
  {
   "cell_type": "code",
   "execution_count": 1,
   "metadata": {},
   "outputs": [
    {
     "data": {
      "text/html": [
       "<table>\n",
       "<thead><tr><th scope=col>X0.58705</th><th scope=col>X5.79555</th></tr></thead>\n",
       "<tbody>\n",
       "\t<tr><td>-0.15098</td><td>3.53372 </td></tr>\n",
       "\t<tr><td>-0.24805</td><td>3.22805 </td></tr>\n",
       "\t<tr><td>-0.36056</td><td>2.87947 </td></tr>\n",
       "\t<tr><td> 0.09375</td><td>4.40297 </td></tr>\n",
       "\t<tr><td>-0.25847</td><td>3.22351 </td></tr>\n",
       "\t<tr><td>-0.17121</td><td>3.33413 </td></tr>\n",
       "\t<tr><td>-0.43584</td><td>2.64581 </td></tr>\n",
       "\t<tr><td>-0.17777</td><td>3.17808 </td></tr>\n",
       "\t<tr><td> 0.63140</td><td>5.89149 </td></tr>\n",
       "\t<tr><td>-0.75121</td><td>1.63182 </td></tr>\n",
       "\t<tr><td> 0.07738</td><td>4.16202 </td></tr>\n",
       "\t<tr><td>-0.35315</td><td>3.04898 </td></tr>\n",
       "\t<tr><td> 0.17786</td><td>4.47832 </td></tr>\n",
       "\t<tr><td>-0.10764</td><td>3.40340 </td></tr>\n",
       "\t<tr><td> 0.48661</td><td>5.45144 </td></tr>\n",
       "\t<tr><td> 0.21430</td><td>4.74118 </td></tr>\n",
       "\t<tr><td>-0.46019</td><td>2.58099 </td></tr>\n",
       "\t<tr><td>-0.85142</td><td>1.51027 </td></tr>\n",
       "\t<tr><td>-0.04862</td><td>3.97839 </td></tr>\n",
       "\t<tr><td> 0.28875</td><td>4.86927 </td></tr>\n",
       "\t<tr><td> 0.89277</td><td>6.54291 </td></tr>\n",
       "\t<tr><td> 0.37858</td><td>5.22406 </td></tr>\n",
       "\t<tr><td> 0.27916</td><td>4.69183 </td></tr>\n",
       "\t<tr><td> 0.44374</td><td>5.40699 </td></tr>\n",
       "\t<tr><td> 0.47639</td><td>5.40892 </td></tr>\n",
       "\t<tr><td>-0.71007</td><td>1.93511 </td></tr>\n",
       "\t<tr><td> 0.39965</td><td>5.31830 </td></tr>\n",
       "\t<tr><td>-0.08275</td><td>3.70831 </td></tr>\n",
       "\t<tr><td> 0.27483</td><td>4.70114 </td></tr>\n",
       "\t<tr><td>-0.70887</td><td>1.78144 </td></tr>\n",
       "\t<tr><td>...</td><td>...</td></tr>\n",
       "\t<tr><td>-0.07143</td><td>3.89586 </td></tr>\n",
       "\t<tr><td>-0.43457</td><td>2.65406 </td></tr>\n",
       "\t<tr><td> 0.36668</td><td>5.00060 </td></tr>\n",
       "\t<tr><td> 0.02261</td><td>3.91445 </td></tr>\n",
       "\t<tr><td>-0.40151</td><td>2.92545 </td></tr>\n",
       "\t<tr><td>-0.15786</td><td>3.53233 </td></tr>\n",
       "\t<tr><td>-0.00780</td><td>4.08026 </td></tr>\n",
       "\t<tr><td>-0.28635</td><td>3.26051 </td></tr>\n",
       "\t<tr><td> 0.20372</td><td>4.75618 </td></tr>\n",
       "\t<tr><td>-0.16267</td><td>3.53234 </td></tr>\n",
       "\t<tr><td>-0.05005</td><td>3.83999 </td></tr>\n",
       "\t<tr><td> 0.85705</td><td>6.43863 </td></tr>\n",
       "\t<tr><td> 0.20211</td><td>4.60285 </td></tr>\n",
       "\t<tr><td> 0.22263</td><td>4.57233 </td></tr>\n",
       "\t<tr><td> 0.00368</td><td>4.02064 </td></tr>\n",
       "\t<tr><td> 0.71760</td><td>6.28391 </td></tr>\n",
       "\t<tr><td> 0.14863</td><td>4.45149 </td></tr>\n",
       "\t<tr><td>-0.03477</td><td>4.00773 </td></tr>\n",
       "\t<tr><td> 0.11045</td><td>4.32023 </td></tr>\n",
       "\t<tr><td>-0.27443</td><td>3.20861 </td></tr>\n",
       "\t<tr><td>-0.15219</td><td>3.58077 </td></tr>\n",
       "\t<tr><td>-0.01239</td><td>4.01570 </td></tr>\n",
       "\t<tr><td> 0.21052</td><td>4.57241 </td></tr>\n",
       "\t<tr><td>-0.17622</td><td>3.46470 </td></tr>\n",
       "\t<tr><td> 0.44270</td><td>5.28338 </td></tr>\n",
       "\t<tr><td> 0.57697</td><td>5.62490 </td></tr>\n",
       "\t<tr><td> 0.54242</td><td>5.50030 </td></tr>\n",
       "\t<tr><td>-0.02820</td><td>3.96986 </td></tr>\n",
       "\t<tr><td>-0.52083</td><td>2.46482 </td></tr>\n",
       "\t<tr><td>-0.63998</td><td>2.24709 </td></tr>\n",
       "</tbody>\n",
       "</table>\n"
      ],
      "text/latex": [
       "\\begin{tabular}{r|ll}\n",
       " X0.58705 & X5.79555\\\\\n",
       "\\hline\n",
       "\t -0.15098 & 3.53372 \\\\\n",
       "\t -0.24805 & 3.22805 \\\\\n",
       "\t -0.36056 & 2.87947 \\\\\n",
       "\t  0.09375 & 4.40297 \\\\\n",
       "\t -0.25847 & 3.22351 \\\\\n",
       "\t -0.17121 & 3.33413 \\\\\n",
       "\t -0.43584 & 2.64581 \\\\\n",
       "\t -0.17777 & 3.17808 \\\\\n",
       "\t  0.63140 & 5.89149 \\\\\n",
       "\t -0.75121 & 1.63182 \\\\\n",
       "\t  0.07738 & 4.16202 \\\\\n",
       "\t -0.35315 & 3.04898 \\\\\n",
       "\t  0.17786 & 4.47832 \\\\\n",
       "\t -0.10764 & 3.40340 \\\\\n",
       "\t  0.48661 & 5.45144 \\\\\n",
       "\t  0.21430 & 4.74118 \\\\\n",
       "\t -0.46019 & 2.58099 \\\\\n",
       "\t -0.85142 & 1.51027 \\\\\n",
       "\t -0.04862 & 3.97839 \\\\\n",
       "\t  0.28875 & 4.86927 \\\\\n",
       "\t  0.89277 & 6.54291 \\\\\n",
       "\t  0.37858 & 5.22406 \\\\\n",
       "\t  0.27916 & 4.69183 \\\\\n",
       "\t  0.44374 & 5.40699 \\\\\n",
       "\t  0.47639 & 5.40892 \\\\\n",
       "\t -0.71007 & 1.93511 \\\\\n",
       "\t  0.39965 & 5.31830 \\\\\n",
       "\t -0.08275 & 3.70831 \\\\\n",
       "\t  0.27483 & 4.70114 \\\\\n",
       "\t -0.70887 & 1.78144 \\\\\n",
       "\t ... & ...\\\\\n",
       "\t -0.07143 & 3.89586 \\\\\n",
       "\t -0.43457 & 2.65406 \\\\\n",
       "\t  0.36668 & 5.00060 \\\\\n",
       "\t  0.02261 & 3.91445 \\\\\n",
       "\t -0.40151 & 2.92545 \\\\\n",
       "\t -0.15786 & 3.53233 \\\\\n",
       "\t -0.00780 & 4.08026 \\\\\n",
       "\t -0.28635 & 3.26051 \\\\\n",
       "\t  0.20372 & 4.75618 \\\\\n",
       "\t -0.16267 & 3.53234 \\\\\n",
       "\t -0.05005 & 3.83999 \\\\\n",
       "\t  0.85705 & 6.43863 \\\\\n",
       "\t  0.20211 & 4.60285 \\\\\n",
       "\t  0.22263 & 4.57233 \\\\\n",
       "\t  0.00368 & 4.02064 \\\\\n",
       "\t  0.71760 & 6.28391 \\\\\n",
       "\t  0.14863 & 4.45149 \\\\\n",
       "\t -0.03477 & 4.00773 \\\\\n",
       "\t  0.11045 & 4.32023 \\\\\n",
       "\t -0.27443 & 3.20861 \\\\\n",
       "\t -0.15219 & 3.58077 \\\\\n",
       "\t -0.01239 & 4.01570 \\\\\n",
       "\t  0.21052 & 4.57241 \\\\\n",
       "\t -0.17622 & 3.46470 \\\\\n",
       "\t  0.44270 & 5.28338 \\\\\n",
       "\t  0.57697 & 5.62490 \\\\\n",
       "\t  0.54242 & 5.50030 \\\\\n",
       "\t -0.02820 & 3.96986 \\\\\n",
       "\t -0.52083 & 2.46482 \\\\\n",
       "\t -0.63998 & 2.24709 \\\\\n",
       "\\end{tabular}\n"
      ],
      "text/markdown": [
       "\n",
       "X0.58705 | X5.79555 | \n",
       "|---|---|---|---|---|---|---|---|---|---|---|---|---|---|---|---|---|---|---|---|---|---|---|---|---|---|---|---|---|---|---|---|---|---|---|---|---|---|---|---|---|---|---|---|---|---|---|---|---|---|---|---|---|---|---|---|---|---|---|---|---|\n",
       "| -0.15098 | 3.53372  | \n",
       "| -0.24805 | 3.22805  | \n",
       "| -0.36056 | 2.87947  | \n",
       "|  0.09375 | 4.40297  | \n",
       "| -0.25847 | 3.22351  | \n",
       "| -0.17121 | 3.33413  | \n",
       "| -0.43584 | 2.64581  | \n",
       "| -0.17777 | 3.17808  | \n",
       "|  0.63140 | 5.89149  | \n",
       "| -0.75121 | 1.63182  | \n",
       "|  0.07738 | 4.16202  | \n",
       "| -0.35315 | 3.04898  | \n",
       "|  0.17786 | 4.47832  | \n",
       "| -0.10764 | 3.40340  | \n",
       "|  0.48661 | 5.45144  | \n",
       "|  0.21430 | 4.74118  | \n",
       "| -0.46019 | 2.58099  | \n",
       "| -0.85142 | 1.51027  | \n",
       "| -0.04862 | 3.97839  | \n",
       "|  0.28875 | 4.86927  | \n",
       "|  0.89277 | 6.54291  | \n",
       "|  0.37858 | 5.22406  | \n",
       "|  0.27916 | 4.69183  | \n",
       "|  0.44374 | 5.40699  | \n",
       "|  0.47639 | 5.40892  | \n",
       "| -0.71007 | 1.93511  | \n",
       "|  0.39965 | 5.31830  | \n",
       "| -0.08275 | 3.70831  | \n",
       "|  0.27483 | 4.70114  | \n",
       "| -0.70887 | 1.78144  | \n",
       "| ... | ... | \n",
       "| -0.07143 | 3.89586  | \n",
       "| -0.43457 | 2.65406  | \n",
       "|  0.36668 | 5.00060  | \n",
       "|  0.02261 | 3.91445  | \n",
       "| -0.40151 | 2.92545  | \n",
       "| -0.15786 | 3.53233  | \n",
       "| -0.00780 | 4.08026  | \n",
       "| -0.28635 | 3.26051  | \n",
       "|  0.20372 | 4.75618  | \n",
       "| -0.16267 | 3.53234  | \n",
       "| -0.05005 | 3.83999  | \n",
       "|  0.85705 | 6.43863  | \n",
       "|  0.20211 | 4.60285  | \n",
       "|  0.22263 | 4.57233  | \n",
       "|  0.00368 | 4.02064  | \n",
       "|  0.71760 | 6.28391  | \n",
       "|  0.14863 | 4.45149  | \n",
       "| -0.03477 | 4.00773  | \n",
       "|  0.11045 | 4.32023  | \n",
       "| -0.27443 | 3.20861  | \n",
       "| -0.15219 | 3.58077  | \n",
       "| -0.01239 | 4.01570  | \n",
       "|  0.21052 | 4.57241  | \n",
       "| -0.17622 | 3.46470  | \n",
       "|  0.44270 | 5.28338  | \n",
       "|  0.57697 | 5.62490  | \n",
       "|  0.54242 | 5.50030  | \n",
       "| -0.02820 | 3.96986  | \n",
       "| -0.52083 | 2.46482  | \n",
       "| -0.63998 | 2.24709  | \n",
       "\n",
       "\n"
      ],
      "text/plain": [
       "    X0.58705 X5.79555\n",
       "1   -0.15098 3.53372 \n",
       "2   -0.24805 3.22805 \n",
       "3   -0.36056 2.87947 \n",
       "4    0.09375 4.40297 \n",
       "5   -0.25847 3.22351 \n",
       "6   -0.17121 3.33413 \n",
       "7   -0.43584 2.64581 \n",
       "8   -0.17777 3.17808 \n",
       "9    0.63140 5.89149 \n",
       "10  -0.75121 1.63182 \n",
       "11   0.07738 4.16202 \n",
       "12  -0.35315 3.04898 \n",
       "13   0.17786 4.47832 \n",
       "14  -0.10764 3.40340 \n",
       "15   0.48661 5.45144 \n",
       "16   0.21430 4.74118 \n",
       "17  -0.46019 2.58099 \n",
       "18  -0.85142 1.51027 \n",
       "19  -0.04862 3.97839 \n",
       "20   0.28875 4.86927 \n",
       "21   0.89277 6.54291 \n",
       "22   0.37858 5.22406 \n",
       "23   0.27916 4.69183 \n",
       "24   0.44374 5.40699 \n",
       "25   0.47639 5.40892 \n",
       "26  -0.71007 1.93511 \n",
       "27   0.39965 5.31830 \n",
       "28  -0.08275 3.70831 \n",
       "29   0.27483 4.70114 \n",
       "30  -0.70887 1.78144 \n",
       "... ...      ...     \n",
       "70  -0.07143 3.89586 \n",
       "71  -0.43457 2.65406 \n",
       "72   0.36668 5.00060 \n",
       "73   0.02261 3.91445 \n",
       "74  -0.40151 2.92545 \n",
       "75  -0.15786 3.53233 \n",
       "76  -0.00780 4.08026 \n",
       "77  -0.28635 3.26051 \n",
       "78   0.20372 4.75618 \n",
       "79  -0.16267 3.53234 \n",
       "80  -0.05005 3.83999 \n",
       "81   0.85705 6.43863 \n",
       "82   0.20211 4.60285 \n",
       "83   0.22263 4.57233 \n",
       "84   0.00368 4.02064 \n",
       "85   0.71760 6.28391 \n",
       "86   0.14863 4.45149 \n",
       "87  -0.03477 4.00773 \n",
       "88   0.11045 4.32023 \n",
       "89  -0.27443 3.20861 \n",
       "90  -0.15219 3.58077 \n",
       "91  -0.01239 4.01570 \n",
       "92   0.21052 4.57241 \n",
       "93  -0.17622 3.46470 \n",
       "94   0.44270 5.28338 \n",
       "95   0.57697 5.62490 \n",
       "96   0.54242 5.50030 \n",
       "97  -0.02820 3.96986 \n",
       "98  -0.52083 2.46482 \n",
       "99  -0.63998 2.24709 "
      ]
     },
     "metadata": {},
     "output_type": "display_data"
    }
   ],
   "source": [
    "df = read.csv(file = 'linear-regression.csv',sep = ',')\n",
    "df"
   ]
  },
  {
   "cell_type": "markdown",
   "metadata": {},
   "source": [
    "Pick value in df to ```point_x``` and ```point_y``` from ```df``` using ```[,column]``` syntax."
   ]
  },
  {
   "cell_type": "code",
   "execution_count": 2,
   "metadata": {},
   "outputs": [
    {
     "data": {
      "text/html": [
       "<ol class=list-inline>\n",
       "\t<li>-0.15098</li>\n",
       "\t<li>-0.24805</li>\n",
       "\t<li>-0.36056</li>\n",
       "\t<li>0.09375</li>\n",
       "\t<li>-0.25847</li>\n",
       "\t<li>-0.17121</li>\n",
       "\t<li>-0.43584</li>\n",
       "\t<li>-0.17777</li>\n",
       "\t<li>0.6314</li>\n",
       "\t<li>-0.75121</li>\n",
       "\t<li>0.07738</li>\n",
       "\t<li>-0.35315</li>\n",
       "\t<li>0.17786</li>\n",
       "\t<li>-0.10764</li>\n",
       "\t<li>0.48661</li>\n",
       "\t<li>0.2143</li>\n",
       "\t<li>-0.46019</li>\n",
       "\t<li>-0.85142</li>\n",
       "\t<li>-0.04862</li>\n",
       "\t<li>0.28875</li>\n",
       "\t<li>0.89277</li>\n",
       "\t<li>0.37858</li>\n",
       "\t<li>0.27916</li>\n",
       "\t<li>0.44374</li>\n",
       "\t<li>0.47639</li>\n",
       "\t<li>-0.71007</li>\n",
       "\t<li>0.39965</li>\n",
       "\t<li>-0.08275</li>\n",
       "\t<li>0.27483</li>\n",
       "\t<li>-0.70887</li>\n",
       "\t<li>0.21256</li>\n",
       "\t<li>-0.5876</li>\n",
       "\t<li>0.08218</li>\n",
       "\t<li>0.24345</li>\n",
       "\t<li>-0.22549</li>\n",
       "\t<li>0.11982</li>\n",
       "\t<li>-0.13756</li>\n",
       "\t<li>-0.64683</li>\n",
       "\t<li>0.17907</li>\n",
       "\t<li>-0.00416</li>\n",
       "\t<li>0.48763</li>\n",
       "\t<li>-0.17245</li>\n",
       "\t<li>0.61594</li>\n",
       "\t<li>-0.50649</li>\n",
       "\t<li>0.23566</li>\n",
       "\t<li>-0.07198</li>\n",
       "\t<li>-0.61057</li>\n",
       "\t<li>0.11442</li>\n",
       "\t<li>-0.03187</li>\n",
       "\t<li>-0.04633</li>\n",
       "\t<li>-0.1315</li>\n",
       "\t<li>-0.1354</li>\n",
       "\t<li>0.21295</li>\n",
       "\t<li>-0.2552</li>\n",
       "\t<li>0.20557</li>\n",
       "\t<li>-0.43418</li>\n",
       "\t<li>0.10297</li>\n",
       "\t<li>0.1943</li>\n",
       "\t<li>0.01233</li>\n",
       "\t<li>-0.54049</li>\n",
       "\t<li>0.02923</li>\n",
       "\t<li>0.9175</li>\n",
       "\t<li>-0.37388</li>\n",
       "\t<li>-0.82708</li>\n",
       "\t<li>-0.29438</li>\n",
       "\t<li>-0.10156</li>\n",
       "\t<li>0.09209</li>\n",
       "\t<li>-0.08249</li>\n",
       "\t<li>-0.64397</li>\n",
       "\t<li>-0.07143</li>\n",
       "\t<li>-0.43457</li>\n",
       "\t<li>0.36668</li>\n",
       "\t<li>0.02261</li>\n",
       "\t<li>-0.40151</li>\n",
       "\t<li>-0.15786</li>\n",
       "\t<li>-0.0078</li>\n",
       "\t<li>-0.28635</li>\n",
       "\t<li>0.20372</li>\n",
       "\t<li>-0.16267</li>\n",
       "\t<li>-0.05005</li>\n",
       "\t<li>0.85705</li>\n",
       "\t<li>0.20211</li>\n",
       "\t<li>0.22263</li>\n",
       "\t<li>0.00368</li>\n",
       "\t<li>0.7176</li>\n",
       "\t<li>0.14863</li>\n",
       "\t<li>-0.03477</li>\n",
       "\t<li>0.11045</li>\n",
       "\t<li>-0.27443</li>\n",
       "\t<li>-0.15219</li>\n",
       "\t<li>-0.01239</li>\n",
       "\t<li>0.21052</li>\n",
       "\t<li>-0.17622</li>\n",
       "\t<li>0.4427</li>\n",
       "\t<li>0.57697</li>\n",
       "\t<li>0.54242</li>\n",
       "\t<li>-0.0282</li>\n",
       "\t<li>-0.52083</li>\n",
       "\t<li>-0.63998</li>\n",
       "</ol>\n"
      ],
      "text/latex": [
       "\\begin{enumerate*}\n",
       "\\item -0.15098\n",
       "\\item -0.24805\n",
       "\\item -0.36056\n",
       "\\item 0.09375\n",
       "\\item -0.25847\n",
       "\\item -0.17121\n",
       "\\item -0.43584\n",
       "\\item -0.17777\n",
       "\\item 0.6314\n",
       "\\item -0.75121\n",
       "\\item 0.07738\n",
       "\\item -0.35315\n",
       "\\item 0.17786\n",
       "\\item -0.10764\n",
       "\\item 0.48661\n",
       "\\item 0.2143\n",
       "\\item -0.46019\n",
       "\\item -0.85142\n",
       "\\item -0.04862\n",
       "\\item 0.28875\n",
       "\\item 0.89277\n",
       "\\item 0.37858\n",
       "\\item 0.27916\n",
       "\\item 0.44374\n",
       "\\item 0.47639\n",
       "\\item -0.71007\n",
       "\\item 0.39965\n",
       "\\item -0.08275\n",
       "\\item 0.27483\n",
       "\\item -0.70887\n",
       "\\item 0.21256\n",
       "\\item -0.5876\n",
       "\\item 0.08218\n",
       "\\item 0.24345\n",
       "\\item -0.22549\n",
       "\\item 0.11982\n",
       "\\item -0.13756\n",
       "\\item -0.64683\n",
       "\\item 0.17907\n",
       "\\item -0.00416\n",
       "\\item 0.48763\n",
       "\\item -0.17245\n",
       "\\item 0.61594\n",
       "\\item -0.50649\n",
       "\\item 0.23566\n",
       "\\item -0.07198\n",
       "\\item -0.61057\n",
       "\\item 0.11442\n",
       "\\item -0.03187\n",
       "\\item -0.04633\n",
       "\\item -0.1315\n",
       "\\item -0.1354\n",
       "\\item 0.21295\n",
       "\\item -0.2552\n",
       "\\item 0.20557\n",
       "\\item -0.43418\n",
       "\\item 0.10297\n",
       "\\item 0.1943\n",
       "\\item 0.01233\n",
       "\\item -0.54049\n",
       "\\item 0.02923\n",
       "\\item 0.9175\n",
       "\\item -0.37388\n",
       "\\item -0.82708\n",
       "\\item -0.29438\n",
       "\\item -0.10156\n",
       "\\item 0.09209\n",
       "\\item -0.08249\n",
       "\\item -0.64397\n",
       "\\item -0.07143\n",
       "\\item -0.43457\n",
       "\\item 0.36668\n",
       "\\item 0.02261\n",
       "\\item -0.40151\n",
       "\\item -0.15786\n",
       "\\item -0.0078\n",
       "\\item -0.28635\n",
       "\\item 0.20372\n",
       "\\item -0.16267\n",
       "\\item -0.05005\n",
       "\\item 0.85705\n",
       "\\item 0.20211\n",
       "\\item 0.22263\n",
       "\\item 0.00368\n",
       "\\item 0.7176\n",
       "\\item 0.14863\n",
       "\\item -0.03477\n",
       "\\item 0.11045\n",
       "\\item -0.27443\n",
       "\\item -0.15219\n",
       "\\item -0.01239\n",
       "\\item 0.21052\n",
       "\\item -0.17622\n",
       "\\item 0.4427\n",
       "\\item 0.57697\n",
       "\\item 0.54242\n",
       "\\item -0.0282\n",
       "\\item -0.52083\n",
       "\\item -0.63998\n",
       "\\end{enumerate*}\n"
      ],
      "text/markdown": [
       "1. -0.15098\n",
       "2. -0.24805\n",
       "3. -0.36056\n",
       "4. 0.09375\n",
       "5. -0.25847\n",
       "6. -0.17121\n",
       "7. -0.43584\n",
       "8. -0.17777\n",
       "9. 0.6314\n",
       "10. -0.75121\n",
       "11. 0.07738\n",
       "12. -0.35315\n",
       "13. 0.17786\n",
       "14. -0.10764\n",
       "15. 0.48661\n",
       "16. 0.2143\n",
       "17. -0.46019\n",
       "18. -0.85142\n",
       "19. -0.04862\n",
       "20. 0.28875\n",
       "21. 0.89277\n",
       "22. 0.37858\n",
       "23. 0.27916\n",
       "24. 0.44374\n",
       "25. 0.47639\n",
       "26. -0.71007\n",
       "27. 0.39965\n",
       "28. -0.08275\n",
       "29. 0.27483\n",
       "30. -0.70887\n",
       "31. 0.21256\n",
       "32. -0.5876\n",
       "33. 0.08218\n",
       "34. 0.24345\n",
       "35. -0.22549\n",
       "36. 0.11982\n",
       "37. -0.13756\n",
       "38. -0.64683\n",
       "39. 0.17907\n",
       "40. -0.00416\n",
       "41. 0.48763\n",
       "42. -0.17245\n",
       "43. 0.61594\n",
       "44. -0.50649\n",
       "45. 0.23566\n",
       "46. -0.07198\n",
       "47. -0.61057\n",
       "48. 0.11442\n",
       "49. -0.03187\n",
       "50. -0.04633\n",
       "51. -0.1315\n",
       "52. -0.1354\n",
       "53. 0.21295\n",
       "54. -0.2552\n",
       "55. 0.20557\n",
       "56. -0.43418\n",
       "57. 0.10297\n",
       "58. 0.1943\n",
       "59. 0.01233\n",
       "60. -0.54049\n",
       "61. 0.02923\n",
       "62. 0.9175\n",
       "63. -0.37388\n",
       "64. -0.82708\n",
       "65. -0.29438\n",
       "66. -0.10156\n",
       "67. 0.09209\n",
       "68. -0.08249\n",
       "69. -0.64397\n",
       "70. -0.07143\n",
       "71. -0.43457\n",
       "72. 0.36668\n",
       "73. 0.02261\n",
       "74. -0.40151\n",
       "75. -0.15786\n",
       "76. -0.0078\n",
       "77. -0.28635\n",
       "78. 0.20372\n",
       "79. -0.16267\n",
       "80. -0.05005\n",
       "81. 0.85705\n",
       "82. 0.20211\n",
       "83. 0.22263\n",
       "84. 0.00368\n",
       "85. 0.7176\n",
       "86. 0.14863\n",
       "87. -0.03477\n",
       "88. 0.11045\n",
       "89. -0.27443\n",
       "90. -0.15219\n",
       "91. -0.01239\n",
       "92. 0.21052\n",
       "93. -0.17622\n",
       "94. 0.4427\n",
       "95. 0.57697\n",
       "96. 0.54242\n",
       "97. -0.0282\n",
       "98. -0.52083\n",
       "99. -0.63998\n",
       "\n",
       "\n"
      ],
      "text/plain": [
       " [1] -0.15098 -0.24805 -0.36056  0.09375 -0.25847 -0.17121 -0.43584 -0.17777\n",
       " [9]  0.63140 -0.75121  0.07738 -0.35315  0.17786 -0.10764  0.48661  0.21430\n",
       "[17] -0.46019 -0.85142 -0.04862  0.28875  0.89277  0.37858  0.27916  0.44374\n",
       "[25]  0.47639 -0.71007  0.39965 -0.08275  0.27483 -0.70887  0.21256 -0.58760\n",
       "[33]  0.08218  0.24345 -0.22549  0.11982 -0.13756 -0.64683  0.17907 -0.00416\n",
       "[41]  0.48763 -0.17245  0.61594 -0.50649  0.23566 -0.07198 -0.61057  0.11442\n",
       "[49] -0.03187 -0.04633 -0.13150 -0.13540  0.21295 -0.25520  0.20557 -0.43418\n",
       "[57]  0.10297  0.19430  0.01233 -0.54049  0.02923  0.91750 -0.37388 -0.82708\n",
       "[65] -0.29438 -0.10156  0.09209 -0.08249 -0.64397 -0.07143 -0.43457  0.36668\n",
       "[73]  0.02261 -0.40151 -0.15786 -0.00780 -0.28635  0.20372 -0.16267 -0.05005\n",
       "[81]  0.85705  0.20211  0.22263  0.00368  0.71760  0.14863 -0.03477  0.11045\n",
       "[89] -0.27443 -0.15219 -0.01239  0.21052 -0.17622  0.44270  0.57697  0.54242\n",
       "[97] -0.02820 -0.52083 -0.63998"
      ]
     },
     "metadata": {},
     "output_type": "display_data"
    },
    {
     "data": {
      "text/html": [
       "<ol class=list-inline>\n",
       "\t<li>3.53372</li>\n",
       "\t<li>3.22805</li>\n",
       "\t<li>2.87947</li>\n",
       "\t<li>4.40297</li>\n",
       "\t<li>3.22351</li>\n",
       "\t<li>3.33413</li>\n",
       "\t<li>2.64581</li>\n",
       "\t<li>3.17808</li>\n",
       "\t<li>5.89149</li>\n",
       "\t<li>1.63182</li>\n",
       "\t<li>4.16202</li>\n",
       "\t<li>3.04898</li>\n",
       "\t<li>4.47832</li>\n",
       "\t<li>3.4034</li>\n",
       "\t<li>5.45144</li>\n",
       "\t<li>4.74118</li>\n",
       "\t<li>2.58099</li>\n",
       "\t<li>1.51027</li>\n",
       "\t<li>3.97839</li>\n",
       "\t<li>4.86927</li>\n",
       "\t<li>6.54291</li>\n",
       "\t<li>5.22406</li>\n",
       "\t<li>4.69183</li>\n",
       "\t<li>5.40699</li>\n",
       "\t<li>5.40892</li>\n",
       "\t<li>1.93511</li>\n",
       "\t<li>5.3183</li>\n",
       "\t<li>3.70831</li>\n",
       "\t<li>4.70114</li>\n",
       "\t<li>1.78144</li>\n",
       "\t<li>4.64785</li>\n",
       "\t<li>2.36904</li>\n",
       "\t<li>4.33018</li>\n",
       "\t<li>4.5812</li>\n",
       "\t<li>3.33604</li>\n",
       "\t<li>4.23821</li>\n",
       "\t<li>3.45348</li>\n",
       "\t<li>2.00809</li>\n",
       "\t<li>4.5415</li>\n",
       "\t<li>4.10607</li>\n",
       "\t<li>5.40747</li>\n",
       "\t<li>3.48155</li>\n",
       "\t<li>5.7084</li>\n",
       "\t<li>2.39071</li>\n",
       "\t<li>4.82726</li>\n",
       "\t<li>3.74389</li>\n",
       "\t<li>2.1777</li>\n",
       "\t<li>4.27602</li>\n",
       "\t<li>3.88965</li>\n",
       "\t<li>3.88686</li>\n",
       "\t<li>3.67183</li>\n",
       "\t<li>3.49113</li>\n",
       "\t<li>4.67873</li>\n",
       "\t<li>3.12481</li>\n",
       "\t<li>4.68855</li>\n",
       "\t<li>2.74055</li>\n",
       "\t<li>4.21552</li>\n",
       "\t<li>4.5316</li>\n",
       "\t<li>4.1083</li>\n",
       "\t<li>2.42548</li>\n",
       "\t<li>3.98392</li>\n",
       "\t<li>6.98564</li>\n",
       "\t<li>2.71958</li>\n",
       "\t<li>1.53684</li>\n",
       "\t<li>3.05788</li>\n",
       "\t<li>3.62269</li>\n",
       "\t<li>4.13679</li>\n",
       "\t<li>3.89883</li>\n",
       "\t<li>2.20617</li>\n",
       "\t<li>3.89586</li>\n",
       "\t<li>2.65406</li>\n",
       "\t<li>5.0006</li>\n",
       "\t<li>3.91445</li>\n",
       "\t<li>2.92545</li>\n",
       "\t<li>3.53233</li>\n",
       "\t<li>4.08026</li>\n",
       "\t<li>3.26051</li>\n",
       "\t<li>4.75618</li>\n",
       "\t<li>3.53234</li>\n",
       "\t<li>3.83999</li>\n",
       "\t<li>6.43863</li>\n",
       "\t<li>4.60285</li>\n",
       "\t<li>4.57233</li>\n",
       "\t<li>4.02064</li>\n",
       "\t<li>6.28391</li>\n",
       "\t<li>4.45149</li>\n",
       "\t<li>4.00773</li>\n",
       "\t<li>4.32023</li>\n",
       "\t<li>3.20861</li>\n",
       "\t<li>3.58077</li>\n",
       "\t<li>4.0157</li>\n",
       "\t<li>4.57241</li>\n",
       "\t<li>3.4647</li>\n",
       "\t<li>5.28338</li>\n",
       "\t<li>5.6249</li>\n",
       "\t<li>5.5003</li>\n",
       "\t<li>3.96986</li>\n",
       "\t<li>2.46482</li>\n",
       "\t<li>2.24709</li>\n",
       "</ol>\n"
      ],
      "text/latex": [
       "\\begin{enumerate*}\n",
       "\\item 3.53372\n",
       "\\item 3.22805\n",
       "\\item 2.87947\n",
       "\\item 4.40297\n",
       "\\item 3.22351\n",
       "\\item 3.33413\n",
       "\\item 2.64581\n",
       "\\item 3.17808\n",
       "\\item 5.89149\n",
       "\\item 1.63182\n",
       "\\item 4.16202\n",
       "\\item 3.04898\n",
       "\\item 4.47832\n",
       "\\item 3.4034\n",
       "\\item 5.45144\n",
       "\\item 4.74118\n",
       "\\item 2.58099\n",
       "\\item 1.51027\n",
       "\\item 3.97839\n",
       "\\item 4.86927\n",
       "\\item 6.54291\n",
       "\\item 5.22406\n",
       "\\item 4.69183\n",
       "\\item 5.40699\n",
       "\\item 5.40892\n",
       "\\item 1.93511\n",
       "\\item 5.3183\n",
       "\\item 3.70831\n",
       "\\item 4.70114\n",
       "\\item 1.78144\n",
       "\\item 4.64785\n",
       "\\item 2.36904\n",
       "\\item 4.33018\n",
       "\\item 4.5812\n",
       "\\item 3.33604\n",
       "\\item 4.23821\n",
       "\\item 3.45348\n",
       "\\item 2.00809\n",
       "\\item 4.5415\n",
       "\\item 4.10607\n",
       "\\item 5.40747\n",
       "\\item 3.48155\n",
       "\\item 5.7084\n",
       "\\item 2.39071\n",
       "\\item 4.82726\n",
       "\\item 3.74389\n",
       "\\item 2.1777\n",
       "\\item 4.27602\n",
       "\\item 3.88965\n",
       "\\item 3.88686\n",
       "\\item 3.67183\n",
       "\\item 3.49113\n",
       "\\item 4.67873\n",
       "\\item 3.12481\n",
       "\\item 4.68855\n",
       "\\item 2.74055\n",
       "\\item 4.21552\n",
       "\\item 4.5316\n",
       "\\item 4.1083\n",
       "\\item 2.42548\n",
       "\\item 3.98392\n",
       "\\item 6.98564\n",
       "\\item 2.71958\n",
       "\\item 1.53684\n",
       "\\item 3.05788\n",
       "\\item 3.62269\n",
       "\\item 4.13679\n",
       "\\item 3.89883\n",
       "\\item 2.20617\n",
       "\\item 3.89586\n",
       "\\item 2.65406\n",
       "\\item 5.0006\n",
       "\\item 3.91445\n",
       "\\item 2.92545\n",
       "\\item 3.53233\n",
       "\\item 4.08026\n",
       "\\item 3.26051\n",
       "\\item 4.75618\n",
       "\\item 3.53234\n",
       "\\item 3.83999\n",
       "\\item 6.43863\n",
       "\\item 4.60285\n",
       "\\item 4.57233\n",
       "\\item 4.02064\n",
       "\\item 6.28391\n",
       "\\item 4.45149\n",
       "\\item 4.00773\n",
       "\\item 4.32023\n",
       "\\item 3.20861\n",
       "\\item 3.58077\n",
       "\\item 4.0157\n",
       "\\item 4.57241\n",
       "\\item 3.4647\n",
       "\\item 5.28338\n",
       "\\item 5.6249\n",
       "\\item 5.5003\n",
       "\\item 3.96986\n",
       "\\item 2.46482\n",
       "\\item 2.24709\n",
       "\\end{enumerate*}\n"
      ],
      "text/markdown": [
       "1. 3.53372\n",
       "2. 3.22805\n",
       "3. 2.87947\n",
       "4. 4.40297\n",
       "5. 3.22351\n",
       "6. 3.33413\n",
       "7. 2.64581\n",
       "8. 3.17808\n",
       "9. 5.89149\n",
       "10. 1.63182\n",
       "11. 4.16202\n",
       "12. 3.04898\n",
       "13. 4.47832\n",
       "14. 3.4034\n",
       "15. 5.45144\n",
       "16. 4.74118\n",
       "17. 2.58099\n",
       "18. 1.51027\n",
       "19. 3.97839\n",
       "20. 4.86927\n",
       "21. 6.54291\n",
       "22. 5.22406\n",
       "23. 4.69183\n",
       "24. 5.40699\n",
       "25. 5.40892\n",
       "26. 1.93511\n",
       "27. 5.3183\n",
       "28. 3.70831\n",
       "29. 4.70114\n",
       "30. 1.78144\n",
       "31. 4.64785\n",
       "32. 2.36904\n",
       "33. 4.33018\n",
       "34. 4.5812\n",
       "35. 3.33604\n",
       "36. 4.23821\n",
       "37. 3.45348\n",
       "38. 2.00809\n",
       "39. 4.5415\n",
       "40. 4.10607\n",
       "41. 5.40747\n",
       "42. 3.48155\n",
       "43. 5.7084\n",
       "44. 2.39071\n",
       "45. 4.82726\n",
       "46. 3.74389\n",
       "47. 2.1777\n",
       "48. 4.27602\n",
       "49. 3.88965\n",
       "50. 3.88686\n",
       "51. 3.67183\n",
       "52. 3.49113\n",
       "53. 4.67873\n",
       "54. 3.12481\n",
       "55. 4.68855\n",
       "56. 2.74055\n",
       "57. 4.21552\n",
       "58. 4.5316\n",
       "59. 4.1083\n",
       "60. 2.42548\n",
       "61. 3.98392\n",
       "62. 6.98564\n",
       "63. 2.71958\n",
       "64. 1.53684\n",
       "65. 3.05788\n",
       "66. 3.62269\n",
       "67. 4.13679\n",
       "68. 3.89883\n",
       "69. 2.20617\n",
       "70. 3.89586\n",
       "71. 2.65406\n",
       "72. 5.0006\n",
       "73. 3.91445\n",
       "74. 2.92545\n",
       "75. 3.53233\n",
       "76. 4.08026\n",
       "77. 3.26051\n",
       "78. 4.75618\n",
       "79. 3.53234\n",
       "80. 3.83999\n",
       "81. 6.43863\n",
       "82. 4.60285\n",
       "83. 4.57233\n",
       "84. 4.02064\n",
       "85. 6.28391\n",
       "86. 4.45149\n",
       "87. 4.00773\n",
       "88. 4.32023\n",
       "89. 3.20861\n",
       "90. 3.58077\n",
       "91. 4.0157\n",
       "92. 4.57241\n",
       "93. 3.4647\n",
       "94. 5.28338\n",
       "95. 5.6249\n",
       "96. 5.5003\n",
       "97. 3.96986\n",
       "98. 2.46482\n",
       "99. 2.24709\n",
       "\n",
       "\n"
      ],
      "text/plain": [
       " [1] 3.53372 3.22805 2.87947 4.40297 3.22351 3.33413 2.64581 3.17808 5.89149\n",
       "[10] 1.63182 4.16202 3.04898 4.47832 3.40340 5.45144 4.74118 2.58099 1.51027\n",
       "[19] 3.97839 4.86927 6.54291 5.22406 4.69183 5.40699 5.40892 1.93511 5.31830\n",
       "[28] 3.70831 4.70114 1.78144 4.64785 2.36904 4.33018 4.58120 3.33604 4.23821\n",
       "[37] 3.45348 2.00809 4.54150 4.10607 5.40747 3.48155 5.70840 2.39071 4.82726\n",
       "[46] 3.74389 2.17770 4.27602 3.88965 3.88686 3.67183 3.49113 4.67873 3.12481\n",
       "[55] 4.68855 2.74055 4.21552 4.53160 4.10830 2.42548 3.98392 6.98564 2.71958\n",
       "[64] 1.53684 3.05788 3.62269 4.13679 3.89883 2.20617 3.89586 2.65406 5.00060\n",
       "[73] 3.91445 2.92545 3.53233 4.08026 3.26051 4.75618 3.53234 3.83999 6.43863\n",
       "[82] 4.60285 4.57233 4.02064 6.28391 4.45149 4.00773 4.32023 3.20861 3.58077\n",
       "[91] 4.01570 4.57241 3.46470 5.28338 5.62490 5.50030 3.96986 2.46482 2.24709"
      ]
     },
     "metadata": {},
     "output_type": "display_data"
    }
   ],
   "source": [
    "point_x = df[,1]\n",
    "point_y = df[,2]\n",
    "point_x\n",
    "point_y"
   ]
  },
  {
   "cell_type": "markdown",
   "metadata": {},
   "source": [
    "Plot ```point_x``` and ```point_y``` using ```plot(nilai_x,nilai_y)``` function."
   ]
  },
  {
   "cell_type": "code",
   "execution_count": 3,
   "metadata": {},
   "outputs": [
    {
     "data": {
      "image/png": "[encoded data removed]",
      "text/plain": [
       "Plot with title \"Scatter Plot\""
      ]
     },
     "metadata": {},
     "output_type": "display_data"
    }
   ],
   "source": [
    "plot(point_x,point_y,xlab = 'nilai x', ylab='nilai y',main = 'Scatter Plot')"
   ]
  },
  {
   "cell_type": "markdown",
   "metadata": {},
   "source": [
    "To see the result from ```lm(formula)``` dan seing its summary, use ```summary(model)``` function."
   ]
  },
  {
   "cell_type": "code",
   "execution_count": 4,
   "metadata": {},
   "outputs": [
    {
     "data": {
      "text/plain": [
       "\n",
       "Call:\n",
       "lm(formula = point_y ~ point_x)\n",
       "\n",
       "Coefficients:\n",
       "(Intercept)      point_x  \n",
       "      3.991        2.978  \n"
      ]
     },
     "metadata": {},
     "output_type": "display_data"
    },
    {
     "data": {
      "text/plain": [
       "\n",
       "Call:\n",
       "lm(formula = point_y ~ point_x)\n",
       "\n",
       "Residuals:\n",
       "      Min        1Q    Median        3Q       Max \n",
       "-0.283738 -0.074062  0.003887  0.067388  0.261729 \n",
       "\n",
       "Coefficients:\n",
       "            Estimate Std. Error t value Pr(>|t|)    \n",
       "(Intercept) 3.991278   0.009953   401.0   <2e-16 ***\n",
       "point_x     2.978346   0.025873   115.1   <2e-16 ***\n",
       "---\n",
       "Signif. codes:  0 '***' 0.001 '**' 0.01 '*' 0.05 '.' 0.1 ' ' 1\n",
       "\n",
       "Residual standard error: 0.09884 on 97 degrees of freedom\n",
       "Multiple R-squared:  0.9927,\tAdjusted R-squared:  0.9927 \n",
       "F-statistic: 1.325e+04 on 1 and 97 DF,  p-value: < 2.2e-16\n"
      ]
     },
     "metadata": {},
     "output_type": "display_data"
    }
   ],
   "source": [
    "hasil = lm(point_y ~ point_x)\n",
    "hasil\n",
    "summary(hasil)"
   ]
  },
  {
   "cell_type": "code",
   "execution_count": 5,
   "metadata": {},
   "outputs": [
    {
     "data": {
      "image/png": "[encoded data removed]",
      "text/plain": [
       "Plot with title \"Scatter Plot\""
      ]
     },
     "metadata": {},
     "output_type": "display_data"
    }
   ],
   "source": [
    "plot(point_x,point_y,xlab = 'nilai x', ylab='nilai y',main = 'Scatter Plot')\n",
    "abline(3.991,2.978)"
   ]
  }
 ],
 "metadata": {
  "kernelspec": {
   "display_name": "R",
   "language": "R",
   "name": "ir"
  },
  "language_info": {
   "codemirror_mode": "r",
   "file_extension": ".r",
   "mimetype": "text/x-r-source",
   "name": "R",
   "pygments_lexer": "r",
   "version": "3.4.2"
  }
 },
 "nbformat": 4,
 "nbformat_minor": 2
}
